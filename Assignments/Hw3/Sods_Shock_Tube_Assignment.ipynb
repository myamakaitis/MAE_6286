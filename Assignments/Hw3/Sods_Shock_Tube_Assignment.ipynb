{
 "cells": [
  {
   "cell_type": "markdown",
   "metadata": {},
   "source": [
    "Before you turn in your homework, make sure everything runs as expected.\n",
    "\n",
    "Make sure you execute every single code cell.\n",
    "\n",
    "**IMPORTANT:**\n",
    "\n",
    "* **DO NOT DELETE ANY CELL** and do not change the title of the Notebook.\n",
    "\n",
    "* Before you turn in your homework, make sure everything runs as expected: restart the kernel (in the menubar, select Kernel $\\rightarrow$ Restart) and then run all cells (in the menubar, select Cell $\\rightarrow$ Run All).\n",
    "\n",
    "Fill your name below:"
   ]
  },
  {
   "cell_type": "code",
   "execution_count": 1,
   "metadata": {},
   "outputs": [],
   "source": [
    "name = \"Mark Yamakaitis\""
   ]
  },
  {
   "cell_type": "markdown",
   "metadata": {
    "nbgrader": {
     "grade": false,
     "grade_id": "md-intro",
     "locked": true,
     "schema_version": 1,
     "solution": false
    }
   },
   "source": [
    "# Sod's test problems\n",
    "\n",
    "Sod's test problems are standard benchmarks used to assess the accuracy of numerical solvers. The tests use a classic example of one-dimensional compressible flow: the shock-tube problem. Sod (1978) chose initial conditions and numerical discretization parameters for the shock-tube problem and used these to test several schemes, including Lax-Wendroff and MacCormack's. Since then, many others have followed Sod's example and used the same tests on new numerical methods.\n",
    "\n",
    "The shock-tube problem is so useful for testing numerical methods because it is one of the few problems that allows an exact solution of the Euler equations for compressible flow.\n",
    "\n",
    "This notebook complements the previous lessons of the course module [_\"Riding the wave: convection problems\"_](https://github.com/numerical-mooc/numerical-mooc/tree/master/lessons/03_wave) with Sod's test problems as an independent coding exercise. We'll lay out the problem for you, but leave important bits of code for you to write on your own. Good luck!\n",
    "\n",
    "## What's a shock tube?\n",
    "\n",
    "A shock tube is an idealized device that generates a one-dimensional shock wave in a compressible gas. The setting allows an analytical solution of the Euler equations, which is very useful for comparing with the numerical results to assess their accuracy. \n",
    "\n",
    "Picture a tube with two regions containing gas at different pressures, separated by an infinitely-thin, rigid diaphragm. The gas is initially at rest, and the left region is at a higher pressure than the region to the right of the diaphragm. At time $t = 0.0 s$, the diaphragm is ruptured instantaneously.  \n",
    "\n",
    "What happens?  \n",
    "\n",
    "You get a shock wave.  The gas at high pressure, no longer constrained by the diaphragm, rushes into the lower-pressure area and a one-dimensional unsteady flow is established, consisting of:\n",
    "\n",
    "* a shock wave traveling to the right\n",
    "* an expansion wave traveling to the left\n",
    "* a moving contact discontinuity\n",
    "\n",
    "The shock-tube problem is an example of a *Riemann problem* and it has an analytical solution, as we said. The situation is illustrated in Figure 1.\n",
    "\n",
    "![shocktube](shocktube.png)\n",
    "<center> Figure 1: The shock-tube problem. </center>\n",
    "\n",
    "## The Euler equations\n",
    "\n",
    "The Euler equations govern the motion of an inviscid fluid (no viscosity). They consist of the conservation laws of mass and momentum, and often we also need to work with the energy equation. \n",
    "\n",
    "Let's consider a 1D flow with velocity $u$ in the $x$-direction. The Euler equations for a fluid with density $\\rho$ and pressure $p$ are:\n",
    "\n",
    "$$\n",
    "\\begin{cases}\n",
    "    &\\frac{\\partial \\rho}{\\partial t} + \\frac{\\partial}{\\partial x}(\\rho u) = 0 \\\\\n",
    "    &\\frac{\\partial}{\\partial t}(\\rho u) + \\frac{\\partial}{\\partial x} (\\rho u^2 + p)=0\n",
    "\\end{cases}\n",
    "$$\n",
    "\n",
    "... plus the energy equation, which we can write in this form:\n",
    "\n",
    "$$\n",
    "\\begin{equation}\n",
    "\\frac{\\partial}{\\partial t}(\\rho e_T) + \\frac{\\partial}{\\partial x} (\\rho u e_T +p u)=0\n",
    "\\end{equation}\n",
    "$$\n",
    "\n",
    "where $e_T=e+u^2/2$ is the total energy per unit mass, equal to the internal energy plus the kinetic energy (per unit mass).\n",
    "\n",
    "Written in vector form, you can see that the Euler equations bear a strong resemblance to the traffic-density equation that has been the focus of this course module so far. Here is the vector representation of the Euler equation:\n",
    "\n",
    "$$\n",
    "\\begin{equation}\n",
    "\\frac{\\partial }{\\partial t} \\underline{\\mathbf{u}} + \\frac{\\partial }{\\partial x} \\underline{\\mathbf{f}} = 0\n",
    "\\end{equation}\n",
    "$$\n",
    "\n",
    "The big difference with our previous work is that the variables $\\underline{\\mathbf{u}}$ and $\\underline{\\mathbf{f}}$ are *vectors*.  If you review the [Phugoid Full Model](https://nbviewer.jupyter.org/github/numerical-mooc/numerical-mooc/blob/master/lessons/01_phugoid/01_03_PhugoidFullModel.ipynb) lesson, you will recall that we can solve for several values at once using the vector form of an equation.  In the Phugoid Module, it was an ODE—now we apply the same procedure to a PDE.  \n",
    "\n",
    "Let's take a look at what $\\underline{\\mathbf{u}}$ and $\\underline{\\mathbf{f}}$ consist of.\n",
    "\n",
    "## The conservative form\n",
    "\n",
    "Many works in the early days of computational fluid dynamics in the 1960s showed that using the conservation form of the Euler equations is more accurate for situations with shock waves.  And as you already saw, the shock-tube solutions do contain shocks.\n",
    "\n",
    "The conserved variables $\\underline{\\mathbf{u}}$ for Euler's equations are\n",
    "\n",
    "$$\n",
    "\\begin{equation}\n",
    "\\underline{\\mathbf{u}} = \\left[\n",
    "\\begin{array}{c}\n",
    "\\rho \\\\\n",
    "\\rho u \\\\\n",
    "\\rho e_T \\\\ \n",
    "\\end{array}\n",
    "\\right]\n",
    "\\end{equation}\n",
    "$$\n",
    "\n",
    "where $\\rho$ is the density of the fluid, $u$ is the velocity of the fluid and $e_T = e + \\frac{u^2}{2}$ is the specific total energy; $\\underline{\\mathbf{f}}$ is the flux vector:\n",
    "\n",
    "$$\n",
    "\\begin{equation}\n",
    "\\underline{\\mathbf{f}} = \\left[\n",
    "\\begin{array}{c}\n",
    "\\rho u \\\\\n",
    "\\rho u^2 + p \\\\\n",
    "(\\rho e_T + p) u \\\\\n",
    "\\end{array}\n",
    "\\right]\n",
    "\\end{equation}\n",
    "$$\n",
    "\n",
    "where $p$ is the pressure of the fluid.\n",
    "\n",
    "If we put together the conserved variables and the flux vector into our PDE, we get the following set of equations:\n",
    "\n",
    "$$\n",
    "\\begin{equation}\n",
    "    \\frac{\\partial}{\\partial t}\n",
    "    \\left[\n",
    "        \\begin{array}{c}\n",
    "            \\rho \\\\\n",
    "            \\rho u \\\\\n",
    "            \\rho e_T \\\\\n",
    "        \\end{array}\n",
    "    \\right] +\n",
    "    \\frac{\\partial}{\\partial x}\n",
    "    \\left[\n",
    "        \\begin{array}{c}\n",
    "            \\rho u \\\\\n",
    "            \\rho u^2 + p \\\\\n",
    "            (\\rho e_T + p) u \\\\\n",
    "        \\end{array}\n",
    "    \\right] =\n",
    "    0\n",
    "\\end{equation}\n",
    "$$\n",
    "\n",
    "There's one major problem there.  We have 3 equations and 4 unknowns.  But there is a solution!  We can use an equation of state to calculate the pressure—in this case, we'll use the ideal gas law.\n",
    "\n",
    "## Calculating the pressure\n",
    "\n",
    "For an ideal gas, the equation of state is\n",
    "\n",
    "$$\n",
    "e = e(\\rho, p) = \\frac{p}{(\\gamma -1) \\rho}\n",
    "$$\n",
    "\n",
    "where $\\gamma = 1.4$ is a reasonable value to model air, \n",
    "\n",
    "$$\n",
    "\\therefore p = (\\gamma -1)\\rho e\n",
    "$$ \n",
    "\n",
    "Recall from above that\n",
    "\n",
    "$$\n",
    "e_T = e+\\frac{1}{2} u^2\n",
    "$$\n",
    "\n",
    "$$\n",
    "\\therefore e = e_T - \\frac{1}{2}u^2\n",
    "$$\n",
    "\n",
    "Putting it all together, we arrive at an equation for the pressure\n",
    "\n",
    "$$\n",
    "p = (\\gamma -1)\\left(\\rho e_T - \\frac{\\rho u^2}{2}\\right)\n",
    "$$\n",
    "\n",
    "## Flux in terms of $\\underline{\\mathbf{u}}$\n",
    "\n",
    "With the traffic model, the flux was a function of traffic density.  For the Euler equations, the three equations we have are coupled and the flux *vector* is a function of $\\underline{\\mathbf{u}}$, the vector of conserved variables:\n",
    "\n",
    "$$\n",
    "\\underline{\\mathbf{f}} = f(\\underline{\\mathbf{u}})\n",
    "$$\n",
    "\n",
    "In order to get everything squared away, we need to represent $\\underline{\\mathbf{f}}$ in terms of $\\underline{\\mathbf{u}}$.\n",
    "We can introduce a little shorthand for the $\\underline{\\mathbf{u}}$ and $\\underline{\\mathbf{f}}$ vectors and define:\n",
    "\n",
    "$$\n",
    "\\underline{\\mathbf{u}} =\n",
    "\\left[\n",
    "    \\begin{array}{c}\n",
    "        u_1 \\\\\n",
    "        u_2 \\\\\n",
    "        u_3 \\\\\n",
    "    \\end{array}\n",
    "\\right] =\n",
    "\\left[\n",
    "    \\begin{array}{c}\n",
    "        \\rho \\\\\n",
    "        \\rho u \\\\\n",
    "        \\rho e_T \\\\\n",
    "    \\end{array}\n",
    "\\right]\n",
    "$$\n",
    "\n",
    "$$\n",
    "\\underline{\\mathbf{f}} =\n",
    "\\left[\n",
    "    \\begin{array}{c}\n",
    "        f_1 \\\\\n",
    "        f_2 \\\\\n",
    "        f_3 \\\\\n",
    "    \\end{array}\n",
    "\\right] =\n",
    "\\left[\n",
    "    \\begin{array}{c}\n",
    "        \\rho u \\\\\n",
    "        \\rho u^2 + p \\\\\n",
    "        (\\rho e_T + p) u \\\\\n",
    "    \\end{array}\n",
    "\\right]\n",
    "$$  \n",
    "\n",
    "With a little algebraic trickery, we can represent the pressure vector using quantities from the $\\underline{\\mathbf{u}}$ vector.\n",
    "\n",
    "$$\n",
    "p = (\\gamma -1)\\left(u_3 - \\frac{1}{2} \\frac{u^2_2}{u_1} \\right)\n",
    "$$\n",
    "\n",
    "Now that pressure can be represented in terms of $\\underline{\\mathbf{u}}$, the rest of $\\underline{\\mathbf{f}}$ isn't too difficult to resolve:\n",
    "\n",
    "$$\\underline{\\mathbf{f}} = \\left[ \\begin{array}{c}\n",
    "f_1 \\\\\n",
    "f_2 \\\\\n",
    "f_3 \\\\ \\end{array} \\right] =\n",
    "\\left[ \\begin{array}{c}\n",
    "u_2\\\\\n",
    "\\frac{u^2_2}{u_1} + (\\gamma -1)\\left(u_3 - \\frac{1}{2} \\frac{u^2_2}{u_1} \\right) \\\\\n",
    "\\left(u_3 + (\\gamma -1)\\left(u_3 - \\frac{1}{2} \\frac{u^2_2}{u_1}\\right) \\right) \\frac{u_2}{u_1}\\\\ \\end{array}\n",
    "\\right]$$\n",
    "\n",
    "## Test conditions\n",
    "\n",
    "The first test proposed by Sod in his 1978 paper is as follows.  \n",
    "\n",
    "In a tube spanning from $x = -10 \\text{m}$ to $x = 10 \\text{m}$ with the rigid membrane at $x = 0 \\text{m}$, we have the following initial gas states:\n",
    "\n",
    "$$\n",
    "\\underline{IC}_L =\n",
    "\\left[\n",
    "    \\begin{array}{c}\n",
    "        \\rho_L \\\\\n",
    "        u_L \\\\\n",
    "        p_L \\\\\n",
    "    \\end{array}\n",
    "\\right] =\n",
    "\\left[\n",
    "    \\begin{array}{c}\n",
    "        1.0 \\, kg/m^3 \\\\\n",
    "        0 \\, m/s \\\\\n",
    "        100 \\, kN/m^2 \\\\\n",
    "    \\end{array}\n",
    "\\right]\n",
    "$$\n",
    "\n",
    "$$\n",
    "\\underline{IC}_R =\n",
    "\\left[\n",
    "    \\begin{array}{c}\n",
    "        \\rho_R \\\\\n",
    "        u_R \\\\\n",
    "        p_R \\\\\n",
    "    \\end{array}\n",
    "\\right] =\n",
    "\\left[\n",
    "    \\begin{array}{c}\n",
    "        0.125 \\, kg/m^3 \\\\\n",
    "        0 \\, m/s \\\\\n",
    "        10 \\, kN/m^2 \\\\\n",
    "    \\end{array}\n",
    "\\right]\n",
    "$$\n",
    "\n",
    "where $\\underline{IC}_L$ are the initial density, velocity and pressure on the left side of the tube membrane and $\\underline{IC}_R$ are the initial density, velocity and pressure on the right side of the tube membrane.  \n",
    "\n",
    "The analytical solution to this test for the velocity, pressure and density, looks like the plots in Figure 2.\n",
    "\n",
    "![shock_analytic](shock_tube_.01.png)\n",
    "<center> Figure 2. Analytical solution for Sod's first test. </center>\n",
    "\n",
    "## The Richtmyer method\n",
    "\n",
    "For this exercise, you will use the **Lax-Friedrichs** scheme that we implemented in [lesson 2](https://nbviewer.jupyter.org/github/numerical-mooc/numerical-mooc/blob/master/lessons/03_wave/03_02_convectionSchemes.ipynb).\n",
    "But, we will also be using a new scheme called the **Richtmyer** method.\n",
    "Like the MacCormack method, Richtmyer is a *two-step method*, given by:\n",
    "\n",
    "$$\n",
    "\\begin{align}\n",
    "\\underline{\\mathbf{u}}^{n+\\frac{1}{2}}_{i+\\frac{1}{2}} &= \\frac{1}{2} \\left( \\underline{\\mathbf{u}}^n_{i+1} + \\underline{\\mathbf{u}}^n_i \\right) - \n",
    "\\frac{\\Delta t}{2 \\Delta x} \\left( \\underline{\\mathbf{f}}^n_{i+1} - \\underline{\\mathbf{f}}^n_i\\right) \\\\\n",
    "\\underline{\\mathbf{u}}^{n+1}_i &= \\underline{\\mathbf{u}}^n_i - \\frac{\\Delta t}{\\Delta x} \\left(\\underline{\\mathbf{f}}^{n+\\frac{1}{2}}_{i+\\frac{1}{2}} - \\underline{\\mathbf{f}}^{n+\\frac{1}{2}}_{i-\\frac{1}{2}} \\right)\n",
    "\\end{align}\n",
    "$$\n",
    "\n",
    "The flux vectors used in the second step are obtained by evaluating the flux functions on the output of the first step:\n",
    "\n",
    "$$\n",
    "\\underline{\\mathbf{f}}^{n+\\frac{1}{2}}_{i+\\frac{1}{2}} = \\underline{\\mathbf{f}}\\left(\\underline{\\mathbf{u}}^{n+\\frac{1}{2}}_{i+\\frac{1}{2}}\\right)\n",
    "$$\n",
    "\n",
    "The first step is like a *predictor* of the solution: if you look closely, you'll see that we are applying a Lax-Friedrichs scheme here. The second step is a *corrector* that applies a leapfrog update. Figure 3 gives a sketch of the stencil for Richtmyer method, where the \"intermediate time\" $n+1/2$ will require a temporary variable in your code, just like we had in the MacCormack scheme.\n",
    "\n",
    "![richtmyer](richtmyer.png)\n",
    "<center> Figure 3. Stencil of Richtmyer scheme. </center>"
   ]
  },
  {
   "cell_type": "markdown",
   "metadata": {
    "nbgrader": {
     "grade": false,
     "grade_id": "md-solution",
     "locked": true,
     "schema_version": 1,
     "solution": false
    }
   },
   "source": [
    "## Implement your solution (40 points)\n",
    "\n",
    "---\n",
    "\n",
    "Your mission, should you wish to accept it, is to calculate the pressure, density and velocity along the shock tube at time $t = 0.01 s$ using the Godunov method with the Lax-Friedrichs flux treatment **and** the Richtmyer method as shown above. Good luck!\n",
    "\n",
    "Code parameters to use:\n",
    "\n",
    "* Number of discrete points along the 1D domain: `nx = 81` (which gives `dx = 0.25` for a domain of length 20).\n",
    "* Time-step size: `dt = 0.0002`.\n",
    "* Heat capacity ratio: `gamma = 1.4`.\n",
    "\n",
    "Implement your solution in this section.\n",
    "You can use as many code cells as you want."
   ]
  },
  {
   "cell_type": "code",
   "execution_count": 2,
   "metadata": {
    "nbgrader": {
     "grade": true,
     "grade_id": "code-solution",
     "locked": false,
     "points": 40,
     "schema_version": 1,
     "solution": true
    }
   },
   "outputs": [],
   "source": [
    "#-------- Import libraries --------\n",
    "import numpy as np\n",
    "from copy import deepcopy"
   ]
  },
  {
   "cell_type": "code",
   "execution_count": 31,
   "metadata": {},
   "outputs": [],
   "source": [
    "#-------- Write code --------\n",
    "def cSound(gamma, Rspecific, TempK):\n",
    "    return np.sqrt(gamma*Rspecific*TempK)\n",
    "\n",
    "class ShockTube:\n",
    "    def __init__(self, N, Xi, Xe, Xdiaphragm, P0, R0, Ps, Rs, gamma):\n",
    "        self.X  = np.linspace(Xi, Xe, N)\n",
    "        self.Xdiaphragm = Xdiaphragm\n",
    "        self.dx = (Xi-Xe)/(N-1)\n",
    "        self.U  = np.empty((3, N), dtype=np.float64)\n",
    "        self.F  = np.empty((3, N), dtype=np.float64)\n",
    "        \n",
    "        self.U_RM = np.empty((3,(N-1)), dtype=np.float64)\n",
    "        self.F_RM = np.empty((3,(N-1)), dtype=np.float64)\n",
    "        \n",
    "        self.gamma = gamma\n",
    "        self.gm1 = self.gamma - 1\n",
    "        \n",
    "        self.t = 0\n",
    "        \n",
    "        self.U[0, self.X < Xdiaphragm] = R0\n",
    "        self.U[0, self.X >= Xdiaphragm] = Rs\n",
    "        \n",
    "        self.U[1] = 0 #initial velocity = 0, therefore momentum = 0\n",
    "        \n",
    "        e0 = P0/((gamma-1)*R0)\n",
    "        es = Ps/((gamma-1)*Rs)\n",
    "        self.U[2, self.X < Xdiaphragm] = R0*e0\n",
    "        self.U[2, self.X >= Xdiaphragm] = Rs*es\n",
    "        \n",
    "    def BC(self, Flux):\n",
    "        # Apply fluxes to boundary cells\n",
    "        self.U[:, 0] += (dt/self.dx) * (Flux[:,0] - 0) #Flux at 1/2 - 0 flux at -1/2\n",
    "        self.U[:,-1] += (dt/self.dx) * (0 - Flux[:,-1]) # 0 Flux at N + 1/2 - flux at N - 1/2\n",
    "        \n",
    "        # Velocity = 0 at boundary cells\n",
    "        # There is a momentum flux which enforces this bc the walls of the tube can exert a pressure\n",
    "        self.U[1, 0] = 0\n",
    "        self.U[1,-1] = 0\n",
    "\n",
    "        \n",
    "    def f(self):\n",
    "        # caclulates flux of each cell\n",
    "        self.F[0] = self.U[1]\n",
    "        self.F[1] = (1 - .5*self.gm1)*self.U[1]**2/self.U[0] + (self.gm1)*self.U[2]\n",
    "        self.F[2] = ((self.U[2] + self.gm1*(self.U[2] - .5*self.U[1]**2/self.U[0]))\n",
    "                        *self.U[1]**2/self.U[0])\n",
    "            \n",
    "    def f_RM(self):\n",
    "        # caclulates flux for each 1/2 value in Richtmeyer method\n",
    "        # This is a huge block of duplicate code that I'm ashamed of\n",
    "        # My folly is to never want to pass entire arrays to functions\n",
    "        self.F_RM[0] = self.U_RM[1]\n",
    "        self.F_RM[1] = (1 - .5*self.gm1)*self.U_RM[1]**2/self.U_RM[0] + (self.gm1)*self.U_RM[2]\n",
    "        self.F_RM[2] = ((self.U_RM[2] + self.gm1*(self.U_RM[2] - .5*self.U_RM[1]**2/self.U_RM[0])) \n",
    "                        *self.U_RM[1]**2/self.U_RM[0])\n",
    "            \n",
    "    def LaxFriedrichsFlux(self, dt):\n",
    "        self.f()        \n",
    "        # Flux at cell boundaries using lax friedrichs\n",
    "        self.F_LF = .5*(self.F[:,:-1] + self.F[:,1:] - (self.dx / dt)*(self.U[:,1:] - self.U[:,:-1]))\n",
    "                                # The fact that this ^ this dx/dt is about to be cancelled out annoys me\n",
    "                                # The code is much more readable like this, but it seems wrong\n",
    "\n",
    "                \n",
    "    def GodunovLF(self, dt):\n",
    "        self.LaxFriedrichsFlux(dt) #calculates flux using \n",
    "        self.U[:,1:-1] -= (dt / self.dx)*(self.F_LF[:,1:]-self.F_LF[:,:-1])\n",
    "        self.BC(self.F_LF) # apply boundary conditions using LF flux\n",
    "        \n",
    "                \n",
    "    def Richtmeyer(self, dt):\n",
    "        self.f() # calculate flux\n",
    "        self.U_RM = .5*(self.U[:,1:] - self.U[:,:-1]) - (dt/(2*self.dx)) * (self.F[:,1:] - self.F[:,:-1])\n",
    "        # The u now has the values for between the cells\n",
    "        # self.BC_RM()\n",
    "        self.f_RM()\n",
    "        \n",
    "        self.U[:,1:-1] -= (dt/self.dx)*(self.F_RM[:,1:] - self.F_RM[:,:-1])\n",
    "        self.BC(self.F_RM)\n",
    "        \n",
    "    def Solve_LF(self, dt, tlim):\n",
    "        while self.t < tlim:\n",
    "            self.GodunovLF(dt)\n",
    "            self.t += dt     \n",
    "\n",
    "            \n",
    "    def Solve_RM(self, dt, tlim):\n",
    "        while self.t < tlim:\n",
    "            self.Richtmeyer(dt)\n",
    "            self.t += dt\n",
    "            \n",
    "    \n",
    "    def Primitives(self):\n",
    "        return u, rho, P, T\n",
    "    \n",
    "    \n",
    "    def Mach(self, Rgas = 287):\n",
    "        u, _, _, T = self.Primitives()\n",
    "        c = cSound(self.gamma, Rgas, T)\n",
    "        M = u / c\n",
    "        return M"
   ]
  },
  {
   "cell_type": "code",
   "execution_count": 33,
   "metadata": {},
   "outputs": [
    {
     "name": "stderr",
     "output_type": "stream",
     "text": [
      "C:\\Users\\myamakaitis\\AppData\\Local\\Temp\\ipykernel_13816\\167935991.py:54: RuntimeWarning: invalid value encountered in true_divide\n",
      "  self.F_RM[1] = (1 - .5*self.gm1)*self.U_RM[1]**2/self.U_RM[0] + (self.gm1)*self.U_RM[2]\n",
      "C:\\Users\\myamakaitis\\AppData\\Local\\Temp\\ipykernel_13816\\167935991.py:55: RuntimeWarning: invalid value encountered in true_divide\n",
      "  self.F_RM[2] = ((self.U_RM[2] + self.gm1*(self.U_RM[2] - .5*self.U_RM[1]**2/self.U_RM[0]))\n"
     ]
    }
   ],
   "source": [
    "dt = .0002\n",
    "Tend = 0.01\n",
    "Gamma = 1.4\n",
    "\n",
    "nx = 81\n",
    "\n",
    "startL = -10\n",
    "endL = 10\n",
    "diaphragmL = 0\n",
    "\n",
    "rL = 1.0 # kg / m^3 Density on left \n",
    "PL = 100 # kPA Pressure on left\n",
    "\n",
    "rR = 0.125 # kg / m^3 Density on right\n",
    "PR = 10 # kPA Pressure on right\n",
    "\n",
    "Tube_LF = ShockTube(nx, startL, endL, diaphragmL, PL, rL, PR, rR, Gamma)\n",
    "Tube_RM = deepcopy(Tube_LF)\n",
    "\n",
    "Tube_LF.Solve_LF(dt, Tend)\n",
    "Tube_RM.Solve_RM(dt, Tend)"
   ]
  },
  {
   "cell_type": "markdown",
   "metadata": {
    "nbgrader": {
     "grade": false,
     "grade_id": "md-assessment",
     "locked": true,
     "schema_version": 1,
     "solution": false
    }
   },
   "source": [
    "## Assessment (80 points)\n",
    "\n",
    "---\n",
    "\n",
    "Answer questions in this section.\n"
   ]
  },
  {
   "cell_type": "markdown",
   "metadata": {
    "nbgrader": {
     "grade": false,
     "grade_id": "md-q1",
     "locked": true,
     "schema_version": 1,
     "solution": false
    }
   },
   "source": [
    "* **Q1 (10 points):** Plot the numerical solution of the density, velocity, and pressure at time $t = 0.01 s$ obtained with the Godunov method with the Lax-Friedrichs flux treatment **and** the Richtmyer method.\n",
    "\n",
    "You should also plot the analytical solution.\n",
    "The analytical solution can be obtained using the function `analytical_solution` from the Python file `sod.py` (located in the same folder than the Jupyter Notebook).\n",
    "To import the function in your Notebook, use `from sod import analytical_solution`.\n",
    "You can use `help(analytical_solution)` to see how you should call the function.\n",
    "\n",
    "Create one figure per variable and make sure to label your axes.\n",
    "(For example, the first figure should contain the numerical solution of the density using both schemes, as well as the analytical solution for the density.)\n",
    "Make sure to add a legend to your plots."
   ]
  },
  {
   "cell_type": "code",
   "execution_count": null,
   "metadata": {
    "nbgrader": {
     "grade": true,
     "grade_id": "code-a1",
     "locked": false,
     "points": 10,
     "schema_version": 1,
     "solution": true
    }
   },
   "outputs": [],
   "source": [
    "#-------- Write code --------\n"
   ]
  },
  {
   "cell_type": "markdown",
   "metadata": {
    "nbgrader": {
     "grade": false,
     "grade_id": "md-q2",
     "locked": true,
     "schema_version": 1,
     "solution": false
    }
   },
   "source": [
    "* **Q2 (10 points):** At $t = 0.01 s$, what type of numerical errors to you observe in the numerical solution obtained with the Godunov method with the Lax-Friedrichs flux treatment **and** the Richtmyer method? (Dispersion errors? Diffusion errors? Explain why.)\n",
    "\n",
    "You should write your answer in the following Markdown cell."
   ]
  },
  {
   "cell_type": "markdown",
   "metadata": {
    "nbgrader": {
     "grade": true,
     "grade_id": "md-a2",
     "locked": false,
     "points": 10,
     "schema_version": 1,
     "solution": true
    }
   },
   "source": [
    "YOUR ANSWER :"
   ]
  },
  {
   "cell_type": "markdown",
   "metadata": {
    "nbgrader": {
     "grade": false,
     "grade_id": "md-q3",
     "locked": true,
     "schema_version": 1,
     "solution": false
    }
   },
   "source": [
    "* **Q3 (5 points):** At $t = 0.01 s$, what's the $L_2$-norm of the difference between the density obtained with the Richtmyer scheme and the analytical solution?\n",
    "\n",
    "Hint :\n",
    "\\\n",
    "       ~ 0.249 "
   ]
  },
  {
   "cell_type": "code",
   "execution_count": null,
   "metadata": {
    "nbgrader": {
     "grade": false,
     "grade_id": "code-a3",
     "locked": false,
     "schema_version": 1,
     "solution": true
    }
   },
   "outputs": [],
   "source": [
    "#-------- Write code --------\n"
   ]
  },
  {
   "cell_type": "markdown",
   "metadata": {
    "nbgrader": {
     "grade": false,
     "grade_id": "md-q4",
     "locked": true,
     "schema_version": 1,
     "solution": false
    }
   },
   "source": [
    "* **Q4 (5 points):** At $t = 0.01 s$, what's the $L_2$-norm of the difference between the density obtained with the Lax-Friedrichs scheme and the analytical solution?\n",
    "\n",
    "Hint :\n",
    "\\\n",
    "       ~ 0.461"
   ]
  },
  {
   "cell_type": "code",
   "execution_count": null,
   "metadata": {
    "nbgrader": {
     "grade": false,
     "grade_id": "code-a4",
     "locked": false,
     "schema_version": 1,
     "solution": true
    }
   },
   "outputs": [],
   "source": [
    "#-------- Write code --------\n"
   ]
  },
  {
   "cell_type": "markdown",
   "metadata": {
    "nbgrader": {
     "grade": false,
     "grade_id": "md-q5",
     "locked": true,
     "schema_version": 1,
     "solution": false
    }
   },
   "source": [
    "* **Q5 (5 points):** At $t = 0.01 s$, what's the value of the density, obtained with Richtmyer scheme, at location $x = 2.5 m$ (in $kg/m^3$)?\n",
    "\n",
    "Hint :\n",
    "\\\n",
    "       ~ 0.374 $kg/m^3$"
   ]
  },
  {
   "cell_type": "code",
   "execution_count": null,
   "metadata": {
    "nbgrader": {
     "grade": false,
     "grade_id": "code-a5",
     "locked": false,
     "schema_version": 1,
     "solution": true
    }
   },
   "outputs": [],
   "source": [
    "#-------- Write code --------\n"
   ]
  },
  {
   "cell_type": "markdown",
   "metadata": {
    "nbgrader": {
     "grade": false,
     "grade_id": "md-q6",
     "locked": true,
     "schema_version": 1,
     "solution": false
    }
   },
   "source": [
    "* **Q6 (5 points):** At $t = 0.01 s$, what's the value of the velocity, obtained with Lax-Friedrichs scheme, at location $x = 2.5 m$ (in $m/s$)?\n",
    "\n",
    "Hint :\n",
    "\\\n",
    "       ~ 281.85 $m/s$"
   ]
  },
  {
   "cell_type": "code",
   "execution_count": null,
   "metadata": {
    "nbgrader": {
     "grade": false,
     "grade_id": "code-a6",
     "locked": false,
     "schema_version": 1,
     "solution": true
    }
   },
   "outputs": [],
   "source": [
    "#-------- Write code --------\n"
   ]
  },
  {
   "cell_type": "markdown",
   "metadata": {
    "nbgrader": {
     "grade": false,
     "grade_id": "md-q7",
     "locked": true,
     "schema_version": 1,
     "solution": false
    }
   },
   "source": [
    "* **Q7 (5 points):** At $t = 0.01 s$, what's the absolute difference in the pressure, between the analytical solution and the Richtmyer solution, at location $x = 2.5 m$ (in $N/m^2$)?\n",
    "\n",
    "Hint :\n",
    "\\\n",
    "       ~ 64.17 $N/m^2$"
   ]
  },
  {
   "cell_type": "code",
   "execution_count": null,
   "metadata": {
    "nbgrader": {
     "grade": false,
     "grade_id": "code-a7",
     "locked": false,
     "schema_version": 1,
     "solution": true
    }
   },
   "outputs": [],
   "source": [
    "#-------- Write code --------\n"
   ]
  },
  {
   "cell_type": "markdown",
   "metadata": {
    "nbgrader": {
     "grade": false,
     "grade_id": "md-q8",
     "locked": true,
     "schema_version": 1,
     "solution": false
    }
   },
   "source": [
    "* **Q8 (5 points):** At $t = 0.01 s$, what's the value of the entropy, obtained with Richtmyer scheme, at location $x = -1.5 m$ (in $J/kg/K$)?\n",
    "\n",
    "The entropy $s$ is defined as:\n",
    "\n",
    "$$\n",
    "s = \\frac{p}{\\rho^\\gamma}\n",
    "$$\n",
    "\n",
    "Hint :\n",
    "\\\n",
    "       ~ 100697.04 $J/kg/K$"
   ]
  },
  {
   "cell_type": "code",
   "execution_count": null,
   "metadata": {
    "nbgrader": {
     "grade": false,
     "grade_id": "code-a8",
     "locked": false,
     "schema_version": 1,
     "solution": true
    }
   },
   "outputs": [],
   "source": [
    "#-------- Write code --------\n"
   ]
  },
  {
   "cell_type": "markdown",
   "metadata": {
    "nbgrader": {
     "grade": false,
     "grade_id": "md-q9",
     "locked": true,
     "schema_version": 1,
     "solution": false
    }
   },
   "source": [
    "* **Q9 (5 points):** At $t = 0.01 s$, what's the value of the speed of sound, obtained with Lax-Friedrichs scheme, at location $x = -1.5 m$ (in $m/s$)?\n",
    "\n",
    "The speed of sound $a$ is defined as:\n",
    "\n",
    "$$\n",
    "a = \\sqrt{\\frac{\\gamma p}{\\rho}}\n",
    "$$\n",
    "\n",
    "Hint :\n",
    "\\\n",
    "       ~ 349.45 $m/s$"
   ]
  },
  {
   "cell_type": "code",
   "execution_count": null,
   "metadata": {
    "nbgrader": {
     "grade": false,
     "grade_id": "code-a9",
     "locked": false,
     "schema_version": 1,
     "solution": true
    }
   },
   "outputs": [],
   "source": [
    "#-------- Write code --------\n"
   ]
  },
  {
   "cell_type": "markdown",
   "metadata": {
    "nbgrader": {
     "grade": false,
     "grade_id": "md-q10",
     "locked": true,
     "schema_version": 1,
     "solution": false
    }
   },
   "source": [
    "* **Q10 (5 points):** At $t = 0.01 s$, what's the value of the Mach number, obtained with Richtmyer scheme, at location $x = -1.5 m$?\n",
    "\n",
    "**Hint:** the Mach number is the ratio between the velocity and the speed of sound.\n",
    "\n",
    "Hint :\n",
    "\\\n",
    "       ~ 0.548 $Mach$"
   ]
  },
  {
   "cell_type": "code",
   "execution_count": null,
   "metadata": {
    "nbgrader": {
     "grade": false,
     "grade_id": "code-a10",
     "locked": false,
     "schema_version": 1,
     "solution": true
    }
   },
   "outputs": [],
   "source": [
    "#-------- Write code --------\n"
   ]
  },
  {
   "cell_type": "markdown",
   "metadata": {
    "nbgrader": {
     "grade": false,
     "grade_id": "md-references",
     "locked": true,
     "schema_version": 1,
     "solution": false
    }
   },
   "source": [
    "## Reference\n",
    "\n",
    "---\n",
    "\n",
    "* Sod, Gary A. (1978), \"A survey of several finite difference methods for systems of nonlinear hyperbolic conservation laws,\" *J. Comput. Phys.*, Vol. 27, pp. 1–31 DOI: [10.1016/0021-9991(78)90023-2](http://dx.doi.org/10.1016%2F0021-9991%2878%2990023-2) // [PDF from unicamp.br](http://www.fem.unicamp.br/~phoenics/EM974/TG%20PHOENICS/BRUNO%20GALETTI%20TG%202013/a%20survey%20of%20several%20finite%20difference%20methods%20for%20systems%20of%20nonlinear%20hyperbolic%20conservation%20laws%20Sod%201978.pdf), checked Oct. 28, 2014."
   ]
  }
 ],
 "metadata": {
  "celltoolbar": "Create Assignment",
  "kernelspec": {
   "display_name": "Python 3 (ipykernel)",
   "language": "python",
   "name": "python3"
  },
  "language_info": {
   "codemirror_mode": {
    "name": "ipython",
    "version": 3
   },
   "file_extension": ".py",
   "mimetype": "text/x-python",
   "name": "python",
   "nbconvert_exporter": "python",
   "pygments_lexer": "ipython3",
   "version": "3.10.4"
  }
 },
 "nbformat": 4,
 "nbformat_minor": 1
}
