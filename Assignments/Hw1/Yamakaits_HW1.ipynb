{
 "cells": [
  {
   "cell_type": "markdown",
   "metadata": {},
   "source": [
    "Before you turn in your homework, make sure everything runs as expected.\n",
    "\n",
    "Make sure you execute every single code cell.\n",
    "\n",
    "**IMPORTANT:**\n",
    "\n",
    "* **DO NOT DELETE ANY CELL** and do not change the title of the Notebook.\n",
    "\n",
    "* Before you turn in your homework, make sure everything runs as expected: restart the kernel (in the menubar, select Kernel $\\rightarrow$ Restart) and then run all cells (in the menubar, select Cell $\\rightarrow$ Run All).\n",
    "\n",
    "Fill your name below:"
   ]
  },
  {
   "cell_type": "code",
   "execution_count": 1,
   "metadata": {},
   "outputs": [],
   "source": [
    "name = \"Mark Yamakaitis\""
   ]
  },
  {
   "cell_type": "markdown",
   "metadata": {
    "nbgrader": {
     "grade": false,
     "grade_id": "rocket-introduction",
     "locked": true,
     "schema_version": 3,
     "solution": false
    }
   },
   "source": [
    "# Coding Assignment: Rocket\n",
    "\n",
    "The equations of motion for a rocket in purely vertical flight are given by\n",
    "\n",
    "$$\n",
    "\\begin{cases}\n",
    "\\frac{dh}{dt} = v\\\\\n",
    "(m_s+m_p) \\frac{dv}{dt} = -(m_s+m_p)g + \\dot{m}_pv_e - \\frac{1}{2}\\rho v|v|AC_D\n",
    "\\end{cases}\n",
    "$$\n",
    "\n",
    "$h$ is the altitude of the rocket\n",
    "\n",
    "$m_s = 50kg$ is the weight of the rocket shell\n",
    "\n",
    "$g = 9.81 \\frac{m}{s^2}$\n",
    "\n",
    "$\\rho = 1.091 \\frac{kg}{m^3}$ is the average air density (assumed constant throughout flight)\n",
    "\n",
    "$A = \\pi r^2$ is the maximum cross sectional area of the rocket, where $r = 0.5 m$\n",
    "\n",
    "$v_e = 350 \\frac{m}{s}$ is the exhaust speed\n",
    "\n",
    "$C_D = 0.21 $ is the drag coefficient\n",
    "\n",
    "$m_{po} = 150 kg$ at time $t = 0$ is the initial weight of the rocket propellant\n",
    "\n",
    "The mass of the remaining propellant is given by:\n",
    "\n",
    "$$\n",
    "\\begin{equation}\n",
    "    m_{p} \\left( t \\right) =\n",
    "    \\begin{cases}\n",
    "        m_{po} - \\int^t_0 \\dot{m}_p d\\tau & \\quad \\text{if} \\quad t < 4 \\\\\\\\\n",
    "        m_{p \\\\ t=4} - \\int^t_0 \\dot{m}_p d\\tau & \\quad \\text{otherwise}\n",
    "    \\end{cases}\n",
    "\\end{equation}\n",
    "$$\n",
    "\n",
    "where $\\dot{m}_p$ is the time-varying burn rate given by the following figure:\n",
    "\n",
    "Propellant Burn Rate\n",
    "\n",
    "<img src=\"burn_rate.png\" width=\"600px\">\n",
    "\n",
    "that is,\n",
    "\n",
    "$$\n",
    "\\begin{equation}\n",
    "    \\dot{m}_p \\left( t \\right) =\n",
    "    \\begin{cases}\n",
    "        20 & \\quad \\text{if} \\quad t < 4 \\\\\n",
    "        0 & \\quad \\text{otherwise}\n",
    "    \\end{cases}\n",
    "\\end{equation}\n",
    "$$\n",
    "\n",
    "Using RK2 technique with a time-step size of $\\Delta t=0.05s$, implement a code (in this notebook) to calculate the altitude and velocity of the rocket from launch until crash down.\n",
    "\n",
    "_Hint:_ To compute the mass of the remaining propellant at a given time $t$, you can directly compute the integral analytically as we have done in class or alternatevely you can use the function `integrate.quad()` from the SciPy package (check the [documentation](https://docs.scipy.org/doc/scipy/reference/generated/scipy.integrate.quad.html) to understand how to use it.)"
   ]
  },
  {
   "cell_type": "markdown",
   "metadata": {
    "nbgrader": {
     "grade": false,
     "grade_id": "solution-section",
     "locked": true,
     "schema_version": 3,
     "solution": false
    }
   },
   "source": [
    "---\n",
    "\n",
    "## Implement your solution (40 points)\n",
    "\n",
    "Implement your solution in this section.\n",
    "You can use as many code cells as you want."
   ]
  },
  {
   "cell_type": "code",
   "execution_count": 2,
   "metadata": {
    "nbgrader": {
     "grade": false,
     "grade_id": "student-imports",
     "locked": false,
     "schema_version": 3,
     "solution": true
    }
   },
   "outputs": [],
   "source": [
    "#-------- Import libraries --------\n",
    "import numpy as np\n",
    "import pandas as pd\n",
    "import matplotlib.pyplot as pyp\n",
    "\n",
    "from IPython.display import display, Markdown\n",
    "def printm(string):\n",
    "    display(Markdown(string))\n",
    "\n",
    "PI = np.pi"
   ]
  },
  {
   "cell_type": "code",
   "execution_count": 3,
   "metadata": {
    "nbgrader": {
     "grade": true,
     "grade_id": "student-solution",
     "locked": false,
     "points": 40,
     "schema_version": 3,
     "solution": true
    }
   },
   "outputs": [],
   "source": [
    "## PARAMS ##\n",
    "m = 50.0      # [kg] shell mass\n",
    "g = -9.81     # [m/s^2] gravitational acceleration\n",
    "rho = 1.091   # [kg/m^3] air density\n",
    "r = 0.5       # [m] Rocket radius\n",
    "A = PI*r**2   # [m^2] Rocket cross-section\n",
    "Ue = 350.0    # [m/s] Exhaust velocity\n",
    "CD = 0.21     # Drag Coefficient\n",
    "mp0 = 150.0   # [kg] initial weight of fuel\n",
    "t_burn = 4.0  # [s] burnout time\n",
    "\n",
    "\n",
    "\n",
    "dt = 0.05 # [s]\n",
    "\n",
    "\n",
    "\n",
    "def mp_dot(t):\n",
    "    if (t >= 0 and t < t_burn):\n",
    "        return 20 # [kg/s]\n",
    "    else:\n",
    "        return 0\n",
    "    \n",
    "def mp(t):\n",
    "    if t < 0:\n",
    "        return mp0\n",
    "    elif t < t_burn:\n",
    "        return mp0 - 20*t\n",
    "    else:\n",
    "        return mp0 - 20*t_burn"
   ]
  },
  {
   "cell_type": "code",
   "execution_count": 4,
   "metadata": {},
   "outputs": [],
   "source": [
    "def F_drag(v):\n",
    "    D = .5 * CD * A * rho * v * abs(v)\n",
    "    return -D\n",
    "    \n",
    "def F_thrust(t):\n",
    "    return Ue*mp_dot(t)\n",
    "\n",
    "def Acceleration(t,v):\n",
    "    accel = (F_drag(v) + F_thrust(t))/(m+mp(t)) + g\n",
    "    return accel\n",
    "\n",
    "def RHS(t, hv):\n",
    "    \"\"\"\n",
    "    Calculates the time derivatives of alititude and velocity \n",
    "    Args:\n",
    "    t: current time\n",
    "    hv: array of altitude and velocity\n",
    "    \n",
    "    Returns:\n",
    "    hv_dt: time derivatives of altitude and velocity in an array\n",
    "    \"\"\"\n",
    "    a = Acceleration(t, v)\n",
    "    hv_dt = np.array([v, a], np.float64)\n",
    "    return hv_dt"
   ]
  },
  {
   "cell_type": "code",
   "execution_count": 5,
   "metadata": {},
   "outputs": [],
   "source": [
    "def rk2(t, dt, rhs, hv):\n",
    "    a1, a2 = 0, 1     #making it very explicit\n",
    "    p1, q1 = 0.5, 0.5 \n",
    "        \n",
    "    hv_dt1 = RHS(t   , hv) # time derivatives of altitude and velocity at t\n",
    "    hv_dt2 = RHS(t+p1*dt, (hv + hv_dt1*q1*dt)) # time derivatives and velocity after half-ste\n",
    "    \n",
    "    hv_dt = (a1*hv_dt1 + a2*hv_dt2)*dt\n",
    "    \n",
    "    return hv + hv_dt"
   ]
  },
  {
   "cell_type": "code",
   "execution_count": 6,
   "metadata": {},
   "outputs": [],
   "source": [
    "#Solution Initialization\n",
    "\n",
    "t = 0.0  # [s] Time 0\n",
    "h = 0.0 # [m] Initial Altitude\n",
    "v = 0.0 # [m/s] Initial Velocity\n",
    "history = pd.DataFrame(columns = ['h','v'], dtype=np.float64) #initialize dataframe to hold velocity and alitude data\n",
    "history.loc[t,:] = [h, v] # index with time "
   ]
  },
  {
   "cell_type": "code",
   "execution_count": 7,
   "metadata": {},
   "outputs": [],
   "source": [
    "# simulate\n",
    "while h >= 0: # \n",
    "    (h,v) = rk2(t, dt, RHS, np.array([h,v])) # calculate new alititude and velocity  \n",
    "    t += dt                                  # incremenet time\n",
    "    history.loc[t, :] = (h,v)                # log new values"
   ]
  },
  {
   "cell_type": "markdown",
   "metadata": {
    "nbgrader": {
     "grade": false,
     "grade_id": "assessment-section",
     "locked": true,
     "schema_version": 3,
     "solution": false
    }
   },
   "source": [
    "---\n",
    "\n",
    "## Assessment (60 points)\n",
    "\n",
    "Answer questions in this section.\n"
   ]
  },
  {
   "cell_type": "markdown",
   "metadata": {
    "nbgrader": {
     "grade": false,
     "grade_id": "q1-question",
     "locked": true,
     "schema_version": 3,
     "solution": false
    }
   },
   "source": [
    "**Q1. (10 points)** Using Matplotlib, plot the history of the altitude and velocity of the rocket over time.\n",
    "\n",
    "Don't forget to include axis labels and a legend, if necessary, to your Matplotlib figure."
   ]
  },
  {
   "cell_type": "code",
   "execution_count": 8,
   "metadata": {
    "nbgrader": {
     "grade": true,
     "grade_id": "q1-solution",
     "locked": false,
     "points": 10,
     "schema_version": 3,
     "solution": true
    }
   },
   "outputs": [
    {
     "data": {
      "image/png": "[encoded data removed]",
      "text/plain": [
       "<Figure size 792x360 with 2 Axes>"
      ]
     },
     "metadata": {
      "needs_background": "light"
     },
     "output_type": "display_data"
    }
   ],
   "source": [
    "# This probably took longer than the other code\n",
    "fig, (axh) = pyp.subplots(1, figsize = (11,5), sharex=True)\n",
    "\n",
    "hcolor = \"orangered\"\n",
    "axh.plot(history.index, history['h'], color = hcolor)\n",
    "\n",
    "axh.set_xlabel(\"Time [s]\")\n",
    "axh.set_ylabel(\"Altitude [m]\", color = hcolor)\n",
    "axh.tick_params('y', colors = hcolor)\n",
    "axh.yaxis.label.set_color(hcolor)\n",
    "axh.grid(True)\n",
    "hlabels = [float(label._y) for label in np.copy(axh.get_yticklabels())]\n",
    "# axh.set_yticks(hlabels)\n",
    "# axh.set_yticklabels(hlabels, color = hcolor)\n",
    "\n",
    "\n",
    "vcolor = 'mediumblue'\n",
    "axv = axh.twinx()\n",
    "axv.plot(history.index, history['v'], color = vcolor)\n",
    "axv.set_ylabel(\"Vertical Velocity [m/s]\", color = vcolor)\n",
    "axv.tick_params('y', colors = vcolor)\n",
    "vlabels = [float(label._y) for label in np.copy(axv.get_yticklabels())]\n",
    "# axv.set_yticks(vlabels)\n",
    "# axv.set_yticklabels(vlabels, color = vcolor);\n",
    "axv.spines['right'].set_color(vcolor)\n",
    "axv.yaxis.label.set_color(vcolor)"
   ]
  },
  {
   "cell_type": "markdown",
   "metadata": {
    "nbgrader": {
     "grade": false,
     "grade_id": "q2-question",
     "locked": true,
     "schema_version": 3,
     "solution": false
    }
   },
   "source": [
    "**Q2. (5 points)** At time $t=15.2s$, what is the mass (in kg) of rocket propellant remaining in the rocket? \n",
    "\n",
    "Hint : ~ 70.00 kg"
   ]
  },
  {
   "cell_type": "code",
   "execution_count": 13,
   "metadata": {
    "nbgrader": {
     "grade": false,
     "grade_id": "q2-solution",
     "locked": false,
     "schema_version": 3,
     "solution": true
    }
   },
   "outputs": [
    {
     "data": {
      "text/markdown": [
       "Propellant mass at $t = 15.2$ is $m_p = 70.00$ kg"
      ],
      "text/plain": [
       "<IPython.core.display.Markdown object>"
      ]
     },
     "metadata": {},
     "output_type": "display_data"
    }
   ],
   "source": [
    "printm(f\"Propellant mass at $t = {15.2}$ is $m_p = {mp(15.2):.2f}$ kg\")"
   ]
  },
  {
   "cell_type": "markdown",
   "metadata": {
    "nbgrader": {
     "grade": false,
     "grade_id": "q3-question",
     "locked": true,
     "schema_version": 3,
     "solution": false
    }
   },
   "source": [
    "**Q3. (15 points)** What is the maximum speed of the rocket in $\\frac{m}{s}$? At what time does this occur (in seconds)? What is the altitude at this time (in meters)?\n",
    "\n",
    "Hint :\n",
    "\\\n",
    "       ~ 126.74 m/s\\\n",
    "       ~ 4.00 s  \\\n",
    "       ~ 237.69 m"
   ]
  },
  {
   "cell_type": "code",
   "execution_count": 10,
   "metadata": {
    "nbgrader": {
     "grade": false,
     "grade_id": "q3-solution",
     "locked": false,
     "schema_version": 3,
     "solution": true
    }
   },
   "outputs": [
    {
     "data": {
      "text/markdown": [
       "Maximum Velocity $= 126.96$ m/s\n",
       "\n",
       "at $t = 4.00$ s and $h = 234.78$ m"
      ],
      "text/plain": [
       "<IPython.core.display.Markdown object>"
      ]
     },
     "metadata": {},
     "output_type": "display_data"
    }
   ],
   "source": [
    "vmax = history['v'].max()\n",
    "vmax_t = history['v'].idxmax()\n",
    "vmax_h = history.at[vmax_t, 'h']\n",
    "printm(f\"Maximum Velocity $= {vmax:.2f}$ m/s\\n\\nat $t = {vmax_t:.2f}$ s and $h = {vmax_h:.2f}$ m\")"
   ]
  },
  {
   "cell_type": "markdown",
   "metadata": {
    "nbgrader": {
     "grade": false,
     "grade_id": "q4-question",
     "locked": true,
     "schema_version": 3,
     "solution": false
    }
   },
   "source": [
    "**Q4. (10 points)** What is the rocket's maximum altitude during flight (in meters)? At what time (in seconds) does this occur?\n",
    "\n",
    "Hint : \n",
    "\\\n",
    "~771.83 m\\\n",
    "~13.75 s"
   ]
  },
  {
   "cell_type": "code",
   "execution_count": 11,
   "metadata": {
    "nbgrader": {
     "grade": false,
     "grade_id": "q4-solution",
     "locked": false,
     "schema_version": 3,
     "solution": true
    }
   },
   "outputs": [
    {
     "data": {
      "text/markdown": [
       "Maximum Altitude $= 771.82$ m/s at $t = 13.75$"
      ],
      "text/plain": [
       "<IPython.core.display.Markdown object>"
      ]
     },
     "metadata": {},
     "output_type": "display_data"
    }
   ],
   "source": [
    "#-------- Write code --------\n",
    "hmax = history['h'].max()\n",
    "hmax_t = history['h'].idxmax()\n",
    "printm(f\"Maximum Altitude $= {hmax:.2f}$ m/s at $t = {hmax_t:.2f}$\")"
   ]
  },
  {
   "cell_type": "markdown",
   "metadata": {
    "nbgrader": {
     "grade": false,
     "grade_id": "q5-question",
     "locked": true,
     "schema_version": 3,
     "solution": false
    }
   },
   "source": [
    "**Q5. (20 points)** At what time (in seconds) does the rocket impact the ground? What is the velocity of the rocket (in $\\frac{m}{s}$) at time of impact?\n",
    "\n",
    "The time and velocity of the impact should be linearly interpolated at altitude $h = 0$.\n",
    "\n",
    "Hint : \\\n",
    "~ 27.53 s \\\n",
    "~ -94.71 m/s"
   ]
  },
  {
   "cell_type": "code",
   "execution_count": 12,
   "metadata": {
    "nbgrader": {
     "grade": false,
     "grade_id": "q5-solution",
     "locked": false,
     "schema_version": 3,
     "solution": true
    }
   },
   "outputs": [
    {
     "data": {
      "text/markdown": [
       "Impact Time $= 27.54$ and Impact Velocity $= -94.86$ s"
      ],
      "text/plain": [
       "<IPython.core.display.Markdown object>"
      ]
     },
     "metadata": {},
     "output_type": "display_data"
    }
   ],
   "source": [
    "#-------- Write code --------\n",
    "hf1, hf = history['h'].iloc[-2], history['h'].iloc[-1]\n",
    "h_impact = 0\n",
    "interp_dist = (h_impact - hf1) / (hf - hf1) # interpolate between final altitude steps\n",
    "tf1 = history.index[-2] # time before h became negative \n",
    "t_impact = tf1 + interp_dist*dt\n",
    "\n",
    "vf1, vf = history['v'].iloc[-2], history['v'].iloc[-1]\n",
    "v_impact = vf1 + interp_dist*(vf-vf1)\n",
    "\n",
    "printm(f\"Impact Time $= {t_impact:.2f}$ and Impact Velocity $= {v_impact:.2f}$ s\")"
   ]
  },
  {
   "cell_type": "markdown",
   "metadata": {
    "nbgrader": {
     "grade": false,
     "grade_id": "derivation",
     "locked": true,
     "schema_version": 3,
     "solution": false
    }
   },
   "source": [
    "---\n",
    "\n",
    "## Derivation of the rocket equations\n",
    "\n",
    "In case you are kind of confused about the rocket equations, here we show how to get to them. \n",
    "\n",
    "Newton's second law states that the acceleration of the vehicle times its mass is equal to all the forces acting on it. Therefore,\n",
    "\n",
    "\\begin{equation}\n",
    "(m_s + m_p)\\frac{d\\bf{v}}{dt}=\\sum {\\bf F}.\n",
    "\\end{equation}\n",
    "In the above formula we have assumed that the propellant inside the rocket and the rocket move at the same velocity (in other words, their relative velocity is negligible). \n",
    "\n",
    "Two of the external forces acting on the rocket are,\n",
    "\n",
    "\\begin{align}\n",
    "{\\bf F}_g&= (m_s+m_p)\\bf{g} \\quad (\\rm{Gravity}),\\\\\n",
    "{\\bf F}_d&= - \\frac{1}{2} \\rho_a \\mathbf{v} |\\mathbf{v}| A  C_D \\quad (\\rm{Drag}).\n",
    "\\end{align}\n",
    "\n",
    "We also need to consider the force resulting from the ejection of the propellant. During an interval $dt$, the engine of the rocket ejects downwards a mass of propellant given by $\\dot m_p dt$. Relative to the rocket, the speed of the ejected burning gas is assumed constant and equal to $v_e$ (the exhaust speed). The momentum variation induced on the exhaust gas by the engine during that interval is therefore, $d{\\bf p}_{gas} = \\dot m_p {\\bf v}_e dt$. Again using Newton's second law we conclude that the force applied by the rocket on the gas is,\n",
    "\n",
    "\\begin{align}\n",
    "{\\bf F}_{rocket\\rightarrow gas} = \\frac{d{\\bf p}_{gas}}{dt} = \\dot m_p {\\bf v}_e\n",
    "\\end{align}\n",
    "\n",
    "Using Newton's third law (|action| = |reaction|), the force exerted by the exhaust gas on the rocket is then,\n",
    "\n",
    "\\begin{align}\n",
    "{\\bf F}_{gas\\rightarrow rocket} = -{\\bf F}_{rocket\\rightarrow gas} = -\\dot m_p {\\bf v}_e\n",
    "\\end{align}\n",
    "\n",
    "If we collect all the forces acting on the rocket we finally have:\n",
    "\n",
    "\\begin{align}\n",
    "(m_s + m_p)\\frac{d\\bf{v}}{dt}=(m_s+m_p){\\bf g}- \\frac{1}{2} \\rho_a \\mathbf{v} |v| A  C_D -\\dot m_p {\\bf v}_e\n",
    "\\end{align}\n",
    "\n"
   ]
  }
 ],
 "metadata": {
  "celltoolbar": "Create Assignment",
  "kernelspec": {
   "display_name": "Python 3 (ipykernel)",
   "language": "python",
   "name": "python3"
  },
  "language_info": {
   "codemirror_mode": {
    "name": "ipython",
    "version": 3
   },
   "file_extension": ".py",
   "mimetype": "text/x-python",
   "name": "python",
   "nbconvert_exporter": "python",
   "pygments_lexer": "ipython3",
   "version": "3.8.13"
  }
 },
 "nbformat": 4,
 "nbformat_minor": 1
}
