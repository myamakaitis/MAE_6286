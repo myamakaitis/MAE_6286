{
 "cells": [
  {
   "cell_type": "markdown",
   "metadata": {},
   "source": [
    "# Practice in training with 2D arrays"
   ]
  },
  {
   "cell_type": "markdown",
   "metadata": {},
   "source": [
    "## Plane orientation\n",
    "\n",
    "### De facto the same for every Python algorith:\n",
    "<img src=\"Python_Array_Indexing_Orientation_Plane.png\" width=\"400\">\n",
    "\n",
    "\n",
    "### At your own will:\n",
    "<img src=\"Python_&_Physical_Orientation_Plane.png\" width=\"900\">\n",
    "\n",
    "## Note: \n",
    "1) The defining point in your algorithm regarding the physical domain orientation and its correspondence to the Python domain is when you first initialise your unknown variables, i.e. if you would go numpy.ones((ny, nx)) **or** numpy.ones((nx, ny)).\n",
    "\n",
    "2) The point where you will need to be extra carefull in your algorithm is when applying the BC, which will define how your physical problem will behave.\n",
    "\n",
    "3) You will still work with 1-dimensional grid arrays (i.e. x,y,dx,dy) in your code, but when would need to plot contours, for instance, then you are going to need the 2-dimensional arrays."
   ]
  },
  {
   "cell_type": "markdown",
   "metadata": {},
   "source": [
    "## ------------------------ Hands-on example ------------------------\n",
    "\n",
    "Here we are going to keep the first orientation, i.e. [ny, nx]"
   ]
  },
  {
   "cell_type": "code",
   "execution_count": 5,
   "metadata": {},
   "outputs": [],
   "source": [
    "#---------- Import libraries ----------\n",
    "\n",
    "import numpy as np\n",
    "import matplotlib.pyplot as plt"
   ]
  },
  {
   "cell_type": "code",
   "execution_count": 29,
   "metadata": {},
   "outputs": [
    {
     "name": "stdout",
     "output_type": "stream",
     "text": [
      "[[1. 1. 1. 1. 1. 1.]\n",
      " [1. 1. 1. 1. 1. 1.]\n",
      " [1. 1. 1. 1. 1. 1.]\n",
      " [1. 1. 1. 1. 1. 1.]\n",
      " [1. 1. 1. 1. 1. 1.]\n",
      " [1. 1. 1. 1. 1. 1.]]\n"
     ]
    }
   ],
   "source": [
    "#---------- Set-up ----------\n",
    "\n",
    "# Define number of points\n",
    "nx = 6\n",
    "ny = 6\n",
    "\n",
    "# Define grid resolution\n",
    "dx = .5\n",
    "dy = .5\n",
    "\n",
    "# Initialise array\n",
    "temp = np.ones((ny, nx))\n",
    "print(temp)"
   ]
  },
  {
   "cell_type": "markdown",
   "metadata": {},
   "source": [
    "## Basic operations implementation"
   ]
  },
  {
   "cell_type": "markdown",
   "metadata": {},
   "source": [
    "### Compute with 1st order forwards :\n",
    "## $\n",
    "\\begin{equation}\n",
    "\\frac{\\partial (temp)}{\\partial x} \n",
    "\\end{equation}\n",
    "$  and $\n",
    "\\begin{equation}\n",
    "\\frac{\\partial (temp)}{\\partial y} \n",
    "\\end{equation}\n",
    "$ \n",
    "\n"
   ]
  },
  {
   "cell_type": "code",
   "execution_count": 30,
   "metadata": {},
   "outputs": [
    {
     "name": "stdout",
     "output_type": "stream",
     "text": [
      "[[0. 0. 0. 0. 0.]\n",
      " [0. 0. 0. 0. 0.]\n",
      " [0. 0. 0. 0. 0.]\n",
      " [0. 0. 0. 0. 0.]]\n"
     ]
    }
   ],
   "source": [
    "# Compute x-gradient\n",
    "grad_x = (temp[1:-1, 1:] - temp[1:-1, :-1]) / dx\n",
    "\n",
    "# Compute y-gradient\n",
    "grad_y = (temp[:-1, 1:-1] - temp[1:, 1:-1]) / dy\n",
    "\n",
    "print(grad_x)"
   ]
  },
  {
   "cell_type": "markdown",
   "metadata": {},
   "source": [
    "## BC implementation\n",
    "\n",
    "$$\\begin{equation} temp(x=0,y,t) = 2 \\; \\end{equation} \\;\\;\\;\\;\\;\\; (Dirichlet \\; BC) $$ \n",
    "\n",
    "$$\\begin{equation} \\frac{\\partial temp}{\\partial x}(x=L,y,t) = 0 \\; \\end{equation} \\;\\;\\; (Neumann \\; BC) $$ \n",
    "\n",
    "$$\\begin{equation} temp(x,y=0,t) = 0 \\; \\end{equation} \\;\\;\\;\\;\\;\\; (Dirichlet \\; BC) $$ \n",
    "\n",
    "$$\\begin{equation} \\frac{\\partial temp}{\\partial y}(x,y=L,t) = 1 \\; \\end{equation} \\;\\;\\; (Neumann \\; BC) $$"
   ]
  },
  {
   "cell_type": "code",
   "execution_count": 31,
   "metadata": {},
   "outputs": [
    {
     "name": "stdout",
     "output_type": "stream",
     "text": [
      "[[1.5 0.5 0.5 0.5 0.5 0.5]\n",
      " [2.  1.  1.  1.  1.  1. ]\n",
      " [2.  1.  1.  1.  1.  1. ]\n",
      " [2.  1.  1.  1.  1.  1. ]\n",
      " [2.  1.  1.  1.  1.  1. ]\n",
      " [0.  0.  0.  0.  0.  0. ]]\n"
     ]
    }
   ],
   "source": [
    "# BC West & East\n",
    "temp[:,0] = 2\n",
    "temp[:,-1] = temp[:, -2]\n",
    "# BC South & North\n",
    "temp[-1, :] = 0\n",
    "temp[0, :] = temp[0, :] -1 *dy\n",
    "\n",
    "print(temp)"
   ]
  },
  {
   "cell_type": "markdown",
   "metadata": {},
   "source": [
    "## RHS augmentation of 2D array"
   ]
  },
  {
   "cell_type": "code",
   "execution_count": 35,
   "metadata": {},
   "outputs": [
    {
     "name": "stdout",
     "output_type": "stream",
     "text": [
      "[[10. 10. 10. 10.]\n",
      " [10. 10. 10. 10.]\n",
      " [10. 10. 10. 10.]\n",
      " [10. 10. 10. 10.]]\n"
     ]
    }
   ],
   "source": [
    "# Initialise a \"RHS\" array\n",
    "rhs     = numpy.ones((ny,nx)) * 10\n",
    "rhs_int = numpy.copy(rhs[1:-1,1:-1])\n",
    "print(rhs_int)"
   ]
  },
  {
   "cell_type": "code",
   "execution_count": 36,
   "metadata": {},
   "outputs": [
    {
     "name": "stdout",
     "output_type": "stream",
     "text": [
      "West:\n",
      "[[0.]\n",
      " [0.]\n",
      " [0.]\n",
      " [0.]]\n",
      "\n",
      "East:\n",
      "[[0.]\n",
      " [0.]\n",
      " [0.]\n",
      " [0.]]\n",
      "\n",
      "\n",
      "Completed x direction:\n",
      "[[ 0. 10. 10. 10. 10.  0.]\n",
      " [ 0. 10. 10. 10. 10.  0.]\n",
      " [ 0. 10. 10. 10. 10.  0.]\n",
      " [ 0. 10. 10. 10. 10.  0.]]\n"
     ]
    }
   ],
   "source": [
    "# BC West & East\n",
    "patch_west = np.zeros((ny-2, 1))\n",
    "patch_east = np.zeros((ny-2, 1))\n",
    "\n",
    "print('West:')\n",
    "print(patch_west)\n",
    "print()\n",
    "print('East:')\n",
    "print(patch_east)\n",
    "print()\n",
    "print()\n",
    "\n",
    "# Assemble the augmented RHS array in x-direction\n",
    "rhs_augm_x = np.concatenate((patch_west, rhs_int, patch_east), axis = 1)\n",
    "\n",
    "print('Completed x direction:')\n",
    "print(rhs_augm_x)"
   ]
  },
  {
   "cell_type": "code",
   "execution_count": 40,
   "metadata": {},
   "outputs": [
    {
     "name": "stdout",
     "output_type": "stream",
     "text": [
      "North:\n",
      "[[0. 0. 0. 0. 0. 0.]]\n",
      "\n",
      "South:\n",
      "[[0. 0. 0. 0. 0. 0.]]\n",
      "\n",
      "\n",
      "Completed both x and y directions:\n",
      "[[ 0.  0.  0.  0.  0.  0.]\n",
      " [ 0. 10. 10. 10. 10.  0.]\n",
      " [ 0. 10. 10. 10. 10.  0.]\n",
      " [ 0. 10. 10. 10. 10.  0.]\n",
      " [ 0. 10. 10. 10. 10.  0.]\n",
      " [ 0.  0.  0.  0.  0.  0.]]\n"
     ]
    }
   ],
   "source": [
    "# BC South & North\n",
    "patch_south = np.zeros((1, nx))\n",
    "patch_north = np.zeros((1, nx))\n",
    "\n",
    "\n",
    "print('North:')\n",
    "print(patch_north)\n",
    "print()\n",
    "print('South:')\n",
    "print(patch_south)\n",
    "print()\n",
    "print()\n",
    "\n",
    "# Assemble the augmented RHS array in both x-direction and y-direction\n",
    "rhs_augm = np.concatenate((patch_north, rhs_augm_x, patch_south), axis = 0)\n",
    "\n",
    "print('Completed both x and y directions:')\n",
    "print(rhs_augm)"
   ]
  },
  {
   "cell_type": "markdown",
   "metadata": {},
   "source": [
    "### Side note:\n",
    "There are some built-in Python commands (e.g. numpy.concatenate) where you need to specify the axis in which you want a specific operation to be performed.\n",
    "\n",
    "<img src=\"Python_axes_enumeration.png\" width=\"500\">"
   ]
  }
 ],
 "metadata": {
  "celltoolbar": "Create Assignment",
  "kernelspec": {
   "display_name": "Python 3 (ipykernel)",
   "language": "python",
   "name": "python3"
  },
  "language_info": {
   "codemirror_mode": {
    "name": "ipython",
    "version": 3
   },
   "file_extension": ".py",
   "mimetype": "text/x-python",
   "name": "python",
   "nbconvert_exporter": "python",
   "pygments_lexer": "ipython3",
   "version": "3.8.13"
  }
 },
 "nbformat": 4,
 "nbformat_minor": 2
}
