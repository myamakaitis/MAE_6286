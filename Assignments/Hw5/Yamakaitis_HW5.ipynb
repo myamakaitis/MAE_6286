{
 "cells": [
  {
   "cell_type": "markdown",
   "metadata": {},
   "source": [
    "Before you turn in your homework, make sure everything runs as expected.\n",
    "\n",
    "Make sure you execute every single code cell.\n",
    "\n",
    "**IMPORTANT:**\n",
    "\n",
    "* **DO NOT DELETE ANY CELL** and do not change the title of the Notebook.\n",
    "\n",
    "* Before you turn in your homework, make sure everything runs as expected: restart the kernel (in the menubar, select Kernel $\\rightarrow$ Restart) and then run all cells (in the menubar, select Cell $\\rightarrow$ Run All).\n",
    "\n",
    "Fill your name below:"
   ]
  },
  {
   "cell_type": "code",
   "execution_count": 1,
   "metadata": {},
   "outputs": [],
   "source": [
    "name = \"Mark Yamakaitis\""
   ]
  },
  {
   "cell_type": "markdown",
   "metadata": {
    "nbgrader": {
     "grade": false,
     "grade_id": "md-intro",
     "locked": true,
     "schema_version": 1,
     "solution": false
    }
   },
   "source": [
    "# Two-dimensional lid-driven cavity flow\n",
    "\n",
    "For the take-home part of the final exam, you will solve the two-dimensional Navier-Stokes equations for an incompressible flow in a square cavity.\n",
    "\n",
    "The non-dimensional Navier-Stokes equation in vector form:\n",
    "\n",
    "$$\n",
    "\\begin{equation}\n",
    "    \\frac{\\partial \\mathbf{u}}{\\partial t} + \\left( \\mathbf{u} \\cdot \\nabla \\right) \\mathbf{u} = - \\nabla p + \\frac{1}{Re} \\nabla^2 \\mathbf{u}\n",
    "\\end{equation}\n",
    "$$\n",
    "\n",
    "where $\\mathbf{u}$ is the velocity vector field, $p$ is the pressure scalar field, and $Re$ is the Reynolds number.\n",
    "\n",
    "The equation above represents three scalar equations, one for each velocity component.\n",
    "But you will solve it in two dimensions, so there will be two scalar equations.\n",
    "\n",
    "The continuity equation for an incompressible flow is:\n",
    "\n",
    "$$\n",
    "\\begin{equation}\n",
    "    \\nabla \\cdot \\mathbf{u} = 0\n",
    "\\end{equation}\n",
    "$$\n",
    "\n",
    "It says that the velocity field is divergence-free.\n",
    "\n",
    "You will use an explicit scheme to discretize the equations in time:\n",
    "\n",
    "$$\n",
    "\\begin{equation}\n",
    "    \\frac{\\mathbf{u}^{n+1} - \\mathbf{u}^n}{\\Delta t} = -\\nabla p - \\left[ \\left( \\mathbf{u} \\cdot \\nabla \\right) \\mathbf{u} \\right]^n + \\frac{1}{Re} \\left[ \\nabla^2 \\mathbf{u} \\right]^n\n",
    "\\end{equation}\n",
    "$$\n",
    "\n",
    "### Fractional-step method\n",
    "\n",
    "To solve the equations, you will use a fractional-step method.\n",
    "The essence of the method is to first solve an equation for an intermediate velocity field that does not satisfy the continuity equation.\n",
    "In a second step, the intermediate velocity is projected onto the space of divergence-free fields.\n",
    "\n",
    "First, we solve an equation for an intermediate velocity field $\\mathbf{u}^\\star$ is:\n",
    "\n",
    "$$\n",
    "\\begin{equation}\n",
    "    \\frac{\\mathbf{u}^\\star - \\mathbf{u}^n}{\\Delta t} = - \\left[ \\left( \\mathbf{u} \\cdot \\nabla \\right) \\mathbf{u} \\right]^n + \\frac{1}{Re} \\left[ \\nabla^2 \\mathbf{u} \\right]^n\n",
    "\\end{equation}\n",
    "$$\n",
    "\n",
    "(It corresponds to the discrete Navier-Stokes equation without the pressure-gradient term.)\n",
    "\n",
    "The projection-step equation is:\n",
    "\n",
    "$$\n",
    "\\begin{equation}\n",
    "    \\frac{\\mathbf{u}^{n+1} - \\mathbf{u}^\\star}{\\Delta t} = -\\nabla p\n",
    "\\end{equation}\n",
    "$$\n",
    "\n",
    "which, after re-arranging the terms, is equivalent to:\n",
    "\n",
    "$$\n",
    "\\begin{equation}\n",
    "    \\mathbf{u}^{n+1} = \\mathbf{u}^\\star - \\Delta t \\; \\nabla p\n",
    "\\end{equation}\n",
    "$$\n",
    "\n",
    "Calculating $\\mathbf{u}^{n+1}$ requires us to first get the pressure field $p$.\n",
    "We can derive an equation for the pressure by taking the divergence on both sides of the projection equation:\n",
    "\n",
    "$$\n",
    "\\begin{equation}\n",
    "    \\nabla \\cdot \\mathbf{u}^{n+1} = \\nabla \\cdot \\mathbf{u}^\\star - \\Delta t \\; \\nabla^2 p\n",
    "\\end{equation}\n",
    "$$\n",
    "\n",
    "Because we require the final velocity to have no divergence, we get:\n",
    "\n",
    "$$\n",
    "\\begin{equation}\n",
    "    \\nabla^2 p = \\frac{1}{\\Delta t} \\nabla \\cdot \\mathbf{u}^\\star\n",
    "\\end{equation}\n",
    "$$\n",
    "\n",
    "This is our pressure Poisson equation.\n",
    "\n",
    "You will discretize the spatial operators using central-difference formula.\n",
    "As a reminder:\n",
    "\n",
    "$$\n",
    "\\begin{equation}\n",
    "    \\frac{\\partial f}{\\partial x}\\Big|_{i, j} = \\frac{f_{i, j+1} - f_{i, j-1}}{2 \\Delta x} + \\mathcal{O} \\left( \\Delta x^2 \\right)\n",
    "\\end{equation}\n",
    "$$\n",
    "\n",
    "$$\n",
    "\\begin{equation}\n",
    "    \\frac{\\partial f}{\\partial y}\\Big|_{i, j} = \\frac{f_{i+1, j} - f_{i-1, j}}{2 \\Delta y} + \\mathcal{O} \\left( \\Delta y^2 \\right)\n",
    "\\end{equation}\n",
    "$$\n",
    "\n",
    "$$\n",
    "\\begin{equation}\n",
    "    \\frac{\\partial^2 f}{\\partial x^2}\\Big|_{i,j} = \\frac{f_{i, j-1} - 2 f_{i, j} + f_{i, j+1}}{\\Delta x^2} + \\mathcal{O} \\left( \\Delta x^2 \\right)\n",
    "\\end{equation}\n",
    "$$\n",
    "\n",
    "$$\n",
    "\\begin{equation}\n",
    "    \\frac{\\partial^2 f}{\\partial y^2}\\Big|_{i,j} = \\frac{f_{i-1, j} - 2 f_{i, j} + f_{i+1, j}}{\\Delta y^2} + \\mathcal{O} \\left( \\Delta y^2 \\right)\n",
    "\\end{equation}\n",
    "$$\n",
    "\n",
    "In summary, each time step you should:\n",
    "\n",
    "1. Solve the two-dimensional discrete Navier-Stokes equation without the pressure-gradient term for the intermediate velocity field $\\mathbf{u}^\\star$.\n",
    "\n",
    "$$\n",
    "\\begin{eqnarray}\n",
    "    \\frac{u_{ij}^\\star - u_{ij}^n}{\\Delta t} = - u_{ij}^n \\frac{u_{i, j+1}^n - u_{i, j-1}^n}{2 \\Delta x} - v_{ij}^n \\frac{u_{i+1, j}^n - u_{i-1, j}^n}{2 \\Delta y} + \\frac{1}{Re} \\left( \\frac{u_{i, j-1}^n - 2 u_{ij}^n + u_{i, j+1}^n}{\\Delta x^2} + \\frac{u_{i-1, j}^n - 2 u_{ij}^n + u_{i+1, j}^n}{\\Delta y^2} \\right) \\\\\n",
    "    \\frac{v_{ij}^\\star - v_{ij}^n}{\\Delta t} = - u_{ij}^n  \\frac{v_{i, j+1}^n - v_{i, j-1}^n}{2 \\Delta x} - v_{ij}^n \\frac{v_{i+1, j}^n - v_{i-1, j}^n}{2 \\Delta y} + \\frac{1}{Re} \\left( \\frac{v_{i, j-1}^n - 2 v_{ij}^n + v_{i, j+1}^n}{\\Delta x^2} + \\frac{v_{i-1, j}^n - 2 v_{ij}^n + v_{i+1, j}^n}{\\Delta y^2} \\right) \\\\\n",
    "\\end{eqnarray}\n",
    "$$\n",
    "\n",
    "2. Solve the Poisson equation for the pressure field $p$.\n",
    "\n",
    "$$\n",
    "\\begin{equation}\n",
    "    \\frac{p_{i, j-1} - 2 p_{ij} + p_{i, j+1}}{\\Delta x^2} + \\frac{p_{i-1, j} - 2 p_{ij} + p_{i+1, j}}{\\Delta y^2} = \\frac{1}{\\Delta t} \\left( \\frac{v_{i, j+1}^\\star - v_{i, j-1}^\\star}{2 \\Delta x} + \\frac{u_{i+1, j}^\\star - u_{i-1, j}^\\star}{2 \\Delta y} \\right)\n",
    "\\end{equation}\n",
    "$$\n",
    "\n",
    "3. Update the intermediate velocity with the pressure gradient to get a divergence-free velocity field.\n",
    "\n",
    "$$\n",
    "\\begin{eqnarray}\n",
    "    u_{ij}^{n+1} = u_{ij}^\\star - \\Delta t \\; \\frac{p_{i, j+1} - p_{i, j-1}}{2 \\Delta x} \\\\\n",
    "    v_{ij}^{n+1} = v_{ij}^\\star - \\Delta t \\; \\frac{p_{i+1, j} - p_{i-1, j}}{2 \\Delta y}\n",
    "\\end{eqnarray}\n",
    "$$\n",
    "\n",
    "### Your assignment\n",
    "\n",
    "You will solve discrete equations in a square domain $\\left[ 0, 1 \\right] \\times \\left[ 0, 1 \\right]$ using a uniform grid with the same grid spacing in $x$ and $y$ directions ($n_x = n_y = 41$, $\\Delta x = \\Delta y$).\n",
    "\n",
    "The Reynolds number is set to $Re = 10$.\n",
    "\n",
    "Initial conditions:\n",
    "\n",
    "$$\n",
    "\\begin{eqnarray}\n",
    "    u \\left( t = 0 \\right) &=&\n",
    "    \\begin{cases}\n",
    "        1 \\quad \\text{at} \\; y = 1 \\\\\n",
    "        0 \\quad \\text{everywhere else}\n",
    "    \\end{cases} \\\\\n",
    "    v \\left( t = 0 \\right) &=& 0 \\\\\n",
    "    p \\left( t = 0 \\right) &=& 0\n",
    "\\end{eqnarray}\n",
    "$$\n",
    "\n",
    "Boundary conditions:\n",
    "\n",
    "* At $x=0$: $u = 0$, $v = 0$, and $\\frac{\\partial p}{\\partial x} = 0$\n",
    "* At $x=1$: $u = 0$, $v = 0$, and $\\frac{\\partial p}{\\partial x} = 0$\n",
    "* At $y=0$: $u = 0$, $v = 0$, and $\\frac{\\partial p}{\\partial y} = 0$\n",
    "* At $y=1$: $u = 1$, $v = 0$, and $p = 0$\n",
    "\n",
    "Compute $n_t = 9000$ time steps with a time-step size $\\Delta t = 10^{-4}$.\n",
    "\n",
    "To solve the discrete pressure Poisson equation, you will implement and use the method of conjugate gradients that we implemented in class.\n",
    "If you wish, you can even use Numba to accelerate the time to convergence of the Poisson equation.\n",
    "\n",
    "You should stop the conjugate-gradient solver once the normalised $L_2$-norm of the difference is smaller or equal than $10^{-6}$, i.e. when:\n",
    "\n",
    "$$\n",
    "\\begin{equation}\n",
    "    \\frac{\\| p^{k+1} - p^k \\|_{L_2}}{n_{x}n_{y}} \\leq 10^{-6}\n",
    "\\end{equation}\n",
    "$$\n",
    "\n",
    "<img src=\"grid_figure.png\" width=\"700\">\n",
    "\n",
    "**Note** : To follow the above figure as well as the indexing in the above discretized equations, we firstly need to decide on the axes-orientation and secondly to meet the Python axes-direction. In order to keep physical orientation in our computational grid (again that's just a personal preference) we initialise our variable as **[ny, nx]** and in order to meet Python axes-direction we flip the top (north) and bottom (south) BC, by maintaining the rest as they are."
   ]
  },
  {
   "cell_type": "markdown",
   "metadata": {
    "nbgrader": {
     "grade": false,
     "grade_id": "md-solution",
     "locked": true,
     "schema_version": 1,
     "solution": false
    }
   },
   "source": [
    "## Implement your solution (50 points)\n",
    "\n",
    "Implement your solution in this section.\n",
    "You can use as many code cells as you want."
   ]
  },
  {
   "cell_type": "code",
   "execution_count": 1,
   "metadata": {
    "nbgrader": {
     "grade": true,
     "grade_id": "code-solution",
     "locked": false,
     "points": 50,
     "schema_version": 1,
     "solution": true
    }
   },
   "outputs": [],
   "source": [
    "#-------- Import libraries --------\n",
    "import numpy as np\n",
    "import matplotlib.pyplot as pyp"
   ]
  },
  {
   "cell_type": "code",
   "execution_count": null,
   "metadata": {},
   "outputs": [],
   "source": [
    "def du_dt_convective(ux, uy, du_dx, du_dy):\n",
    "    return ux*du_dx + uy*du_dy\n",
    "\n",
    "def du_dt_viscous(Re, d2u_dx2, d2u_dy2):\n",
    "    return 1 / Re * (d2u_dx2 + d2u_dy2):\n",
    "    \n"
   ]
  },
  {
   "cell_type": "code",
   "execution_count": 3,
   "metadata": {},
   "outputs": [],
   "source": [
    "#-------- Write code --------\n",
    "\n",
    "class VelocityField(self):\n",
    "    \n",
    "\n",
    "\n",
    "    "
   ]
  },
  {
   "cell_type": "markdown",
   "metadata": {
    "nbgrader": {
     "grade": false,
     "grade_id": "md-assessment",
     "locked": true,
     "schema_version": 1,
     "solution": false
    }
   },
   "source": [
    "## Assessment (50 points)\n",
    "\n",
    "Answer questions in this section.\n",
    "\n",
    "Do not try to delete or modify the cells that are already present.\n",
    "For each question, make sure to provide your answer in the cell **just above** the empty cell."
   ]
  },
  {
   "cell_type": "markdown",
   "metadata": {
    "nbgrader": {
     "grade": false,
     "grade_id": "md-part1",
     "locked": true,
     "schema_version": 1,
     "solution": false
    }
   },
   "source": [
    "### Part 1 (15 points)\n",
    "\n",
    "Plot the filled contour of the pressure scalar field and the streamlines of the velocity vector field after $9000$ time steps.\n",
    "\n",
    "Here is a figure of what your solution should look like:\n",
    "\n",
    "![figure1](cavity.png)\n",
    "\n",
    "**Figure 1:** Filled contour of the pressure field and streamlines of the velocity field in a two-dimensional lid-driven cavity at Reynolds number $Re = 10$.\n",
    "\n",
    "**Hint:** For the filled contour, I used the function [`pyplot.contourf()`](https://matplotlib.org/api/_as_gen/matplotlib.pyplot.contourf.html) with $51$ levels between $-1$ and $1$. For the velocity streamlines, I used the function [`pyplot.streamplot`](https://matplotlib.org/api/_as_gen/matplotlib.axes.Axes.streamplot.html#matplotlib.axes.Axes.streamplot)."
   ]
  },
  {
   "cell_type": "code",
   "execution_count": 4,
   "metadata": {
    "nbgrader": {
     "grade": true,
     "grade_id": "code-part1",
     "locked": false,
     "points": 10,
     "schema_version": 1,
     "solution": true
    }
   },
   "outputs": [],
   "source": [
    "#-------- Write code --------\n"
   ]
  },
  {
   "cell_type": "markdown",
   "metadata": {
    "nbgrader": {
     "grade": false,
     "grade_id": "md-part2",
     "locked": true,
     "schema_version": 1,
     "solution": false
    }
   },
   "source": [
    "## Part 2 (20 points)\n",
    "\n",
    "Compute the divergence of the velocity field after $9000$ time steps and plot the filled contour of the absolute value.\n",
    "\n",
    "In two dimensional the divergence of the velocity vector field is:\n",
    "\n",
    "$$\n",
    "\\begin{equation}\n",
    "    \\nabla \\cdot \\mathbf{u} = \\frac{\\partial u}{\\partial x} + \\frac{\\partial v}{\\partial y}\n",
    "\\end{equation}\n",
    "$$\n",
    "\n",
    "To compute the divergence, you will use the following discrete version:\n",
    "\n",
    "$$\n",
    "\\begin{equation}\n",
    "    \\left( \\nabla \\cdot \\mathbf{u} \\right)_{i, j} =  \\frac{u_{i, j+1} - u_{i, j-1}}{2 \\Delta x} + \\frac{v_{i+1, j} - v_{i-1, j}}{2 \\Delta y}\n",
    "\\end{equation}\n",
    "$$\n",
    "\n",
    "(Note that using the discrete equation above, the divergence will be computed only at interior points, not on the boundaries.)\n",
    "\n",
    "Here is a figure of what your solution should look like:\n",
    "\n",
    "![figure2](divergence.png)\n",
    "\n",
    "**Figure 2:** Filled contour of the absolute divergence of the velocity field in a two-dimensional lid-driven cavity at Reynolds number $Re = 10$. ($51$ levels between $0$ and $1$.)"
   ]
  },
  {
   "cell_type": "code",
   "execution_count": 5,
   "metadata": {
    "nbgrader": {
     "grade": true,
     "grade_id": "code-part2",
     "locked": false,
     "points": 20,
     "schema_version": 1,
     "solution": true
    }
   },
   "outputs": [],
   "source": [
    "#-------- Write code --------\n"
   ]
  },
  {
   "cell_type": "markdown",
   "metadata": {
    "nbgrader": {
     "grade": false,
     "grade_id": "md-part3",
     "locked": true,
     "schema_version": 1,
     "solution": false
    }
   },
   "source": [
    "## Part 3 (15 points)\n",
    "\n",
    "What's the $L_2$-norm of the divergence $\\nabla \\cdot \\mathbf{u}$ (after $9000$ time steps) divided by the number of interior points?\n",
    "\n",
    "$$\n",
    "\\begin{equation}\n",
    "    \\frac{\\| \\nabla \\cdot \\mathbf{u} \\|_{L_2}}{\\left( n_x - 2 \\right) \\left( n_y - 2 \\right)}\n",
    "\\end{equation}\n",
    "$$\n",
    "\n",
    "**Hint:** If everything goes smooth, you should obtain a _small_ value (I got a value of about $2.94 \\times 10^{-3}$).\n",
    "\n",
    "**Important:** Print your result."
   ]
  },
  {
   "cell_type": "code",
   "execution_count": 6,
   "metadata": {
    "nbgrader": {
     "grade": false,
     "grade_id": "code-part3",
     "locked": false,
     "schema_version": 1,
     "solution": true
    }
   },
   "outputs": [],
   "source": [
    "#-------- Write code --------\n"
   ]
  }
 ],
 "metadata": {
  "celltoolbar": "Create Assignment",
  "kernelspec": {
   "display_name": "Python 3 (ipykernel)",
   "language": "python",
   "name": "python3"
  },
  "language_info": {
   "codemirror_mode": {
    "name": "ipython",
    "version": 3
   },
   "file_extension": ".py",
   "mimetype": "text/x-python",
   "name": "python",
   "nbconvert_exporter": "python",
   "pygments_lexer": "ipython3",
   "version": "3.8.13"
  }
 },
 "nbformat": 4,
 "nbformat_minor": 2
}
