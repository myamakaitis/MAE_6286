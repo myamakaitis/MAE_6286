{
 "cells": [
  {
   "cell_type": "markdown",
   "metadata": {},
   "source": [
    "Before you turn in your homework, make sure everything runs as expected.\n",
    "\n",
    "Make sure you complete all the pre-defined functions appropriately by following instructions and execute every single code cell.\n",
    "\n",
    "**IMPORTANT:**\n",
    "\n",
    "* **DO NOT DELETE ANY CELL** and do not change the title of the Notebook.\n",
    "\n",
    "* Follow the layout of the pre-defined functions appropriately by completing the missing lines.\n",
    "\n",
    "* Before you turn in your homework, make sure everything runs as expected: restart the kernel (in the menubar, select Kernel $\\rightarrow$ Restart) and then run all cells (in the menubar, select Cell $\\rightarrow$ Run All).\n",
    "\n",
    "Fill your name below:"
   ]
  },
  {
   "cell_type": "code",
   "execution_count": 1,
   "metadata": {},
   "outputs": [],
   "source": [
    "name = \"Mark Yamakaitis\""
   ]
  },
  {
   "cell_type": "markdown",
   "metadata": {
    "nbgrader": {
     "grade": false,
     "grade_id": "md-intro",
     "locked": true,
     "schema_version": 1,
     "solution": false
    }
   },
   "source": [
    "# Burgers' equation with TVD Runge-Kutta scheme\n",
    "\n",
    "---\n",
    "\n",
    "Let $u \\left( x, t \\right)$ be the solution of the Burgers' equation in the one-dimensional spatial domain $\\Omega = \\left[ -2, 2 \\right]$:\n",
    "\n",
    "$$\n",
    "\\frac{\\partial u}{\\partial t} + \\frac{\\partial}{\\partial x} \\left( \\frac{u^2}{2} \\right) = \\nu \\frac{\\partial^2 u}{\\partial x^2} \\quad \\text{in} \\quad \\Omega\n",
    "$$\n",
    "\n",
    "with constant coefficient of diffusion $\\nu = 0.005$ and the following Cauchy distribution as initial condition:\n",
    "\n",
    "$$\n",
    "u \\left( x, t=0 \\right) = \\frac{1}{\\gamma\\pi}[\\frac{\\gamma^2}{(x-\\mu)^2+\\gamma^2}]\n",
    "$$\n",
    "\n",
    "where $\\gamma = 0.3$ and $\\mu = -0.4$.\n",
    "\n",
    "The objective of this assignment is to numerically compute the solution $u \\left( x, t \\right)$ in the domain $\\Omega$ at time $t=2$ (with time-step size $\\Delta t = 0.004$) on a grid containing $n_x= 101$ uniformly distributed points.\n",
    "\n",
    "To advance the solution in time, you will use a TVD (total variation diminishing) third-order Runge-Kutta scheme:\n",
    "\n",
    "$$\n",
    "\\begin{split}\n",
    "    &u^{(1)} &= u^n + \\Delta t f\\left( u^n \\right) \\\\\n",
    "    &u^{(2)} &= \\frac{3}{4} u^n + \\frac{1}{4} u^{(1)} + \\frac{1}{4} \\Delta t f\\left( u^{(1)} \\right) \\\\\n",
    "    &u^{n+1} &= \\frac{1}{3} u^n + \\frac{2}{3} u^{(2)} + \\frac{2}{3} \\Delta t f\\left( u^{(2)} \\right)\n",
    "\\end{split}\n",
    "$$\n",
    "\n",
    "where\n",
    "\n",
    "$$\n",
    "f \\left( u \\right) = - \\frac{\\partial}{\\partial x} \\left( \\frac{u^2}{2} \\right) + \\nu \\frac{\\partial^2 u}{\\partial x^2}\n",
    "$$\n",
    "\n",
    "You will use the finite-difference method to evaluate spatial derivatives:\n",
    "\n",
    "* approximate first-order derivatives using a first-order backward-difference formula:\n",
    "\n",
    "$$\n",
    "\\left. \\frac{\\partial u}{\\partial x} \\right|_i = \\frac{u_i - u_{i-1}}{\\Delta x}\n",
    "$$\n",
    "\n",
    "\n",
    "\n",
    "* approximate the second-order derivatives using a second-order central-difference formula:\n",
    "\n",
    "$$\n",
    "\\left. \\frac{\\partial^2 u}{\\partial x^2} \\right|_i = \\frac{u_{i-1} - 2 u_i + u_{i+1}}{\\Delta x^2}\n",
    "$$\n",
    "\n",
    "Finally, you will use Dirichlet boundary conditions at both ends of the domain $\\Omega$:\n",
    "\n",
    "$$\n",
    "\\begin{cases}\n",
    "    u \\left( x = -2, t \\right) &=& u \\left( x = -2, t_0 \\right) \\quad \\forall t \\\\\n",
    "    u \\left( x = 2, t \\right) &=& u \\left (x = 2, t_0 \\right) \\;\\;\\; \\quad \\forall t \\\\\n",
    "\\end{cases}\n",
    "$$\n",
    "\n",
    "Let's go!\n",
    "\n",
    "**IMPORTANT:** Some functions are already pre-defined and you will have to complete them. Please, do not change the name and signature (number of inputs and their order) and do **NOT** erase any print statements."
   ]
  },
  {
   "cell_type": "markdown",
   "metadata": {
    "nbgrader": {
     "grade": false,
     "grade_id": "md-foreword",
     "locked": true,
     "schema_version": 1,
     "solution": false
    }
   },
   "source": [
    "### Import your libraries in the cell below."
   ]
  },
  {
   "cell_type": "code",
   "execution_count": 2,
   "metadata": {
    "nbgrader": {
     "grade": true,
     "grade_id": "cell-imports",
     "locked": false,
     "points": 0,
     "schema_version": 1,
     "solution": true
    }
   },
   "outputs": [],
   "source": [
    "### BEGIN SOLUTION\n",
    "import numpy\n",
    "np = numpy\n",
    "import matplotlib.pyplot as pyp\n",
    "### END SOLUTION"
   ]
  },
  {
   "cell_type": "markdown",
   "metadata": {
    "nbgrader": {
     "grade": false,
     "grade_id": "md-step1",
     "locked": true,
     "schema_version": 1,
     "solution": false
    }
   },
   "source": [
    "### Step 1: Spatial grid (5 points)\n",
    "\n",
    "Create a uniform one-dimensional grid with $n_x = 101$ points in the domain $\\Omega = \\left[ -2, 2 \\right]$.\n",
    "Store your grid points in a 1D NumPy array floats, called **`x`**."
   ]
  },
  {
   "cell_type": "code",
   "execution_count": 6,
   "metadata": {
    "nbgrader": {
     "grade": false,
     "grade_id": "cell-step1",
     "locked": false,
     "schema_version": 1,
     "solution": true
    }
   },
   "outputs": [],
   "source": [
    "### BEGIN SOLUTION\n",
    "nx = 101\n",
    "x = np.linspace(-2, 2, nx)\n",
    "dx = x[1] - x[0]\n",
    "\n",
    "### END SOLUTION"
   ]
  },
  {
   "cell_type": "markdown",
   "metadata": {
    "nbgrader": {
     "grade": false,
     "grade_id": "md-step2",
     "locked": true,
     "schema_version": 1,
     "solution": false
    }
   },
   "source": [
    "### Step 2: Initial solution (5 points)\n",
    "\n",
    "Initial Cauchy distribution:\n",
    "\n",
    "$$\n",
    "u \\left( x, t=0 \\right) = \\frac{1}{\\gamma\\pi}[\\frac{\\gamma^2}{(x-\\mu)^2+\\gamma^2}]\n",
    "$$\n",
    "\n",
    "where $\\gamma = 0.3$ and $\\mu = -0.4$.\n",
    "\n",
    "Create a 1D NumPy array of floats, called **`u0`**, that stores the initial solution in the domain $\\Omega$."
   ]
  },
  {
   "cell_type": "code",
   "execution_count": 7,
   "metadata": {
    "nbgrader": {
     "grade": false,
     "grade_id": "cell-step2",
     "locked": false,
     "schema_version": 1,
     "solution": true
    }
   },
   "outputs": [],
   "source": [
    "### BEGIN SOLUTION\n",
    "PI = np.pi\n",
    "GAMMA = 0.3\n",
    "MU = -0.4\n",
    "\n",
    "u0 =  1/(GAMMA*PI) * (GAMMA**2)\n",
    "u0 /= ((x - MU)**2 + GAMMA**2)\n",
    "### END SOLUTION"
   ]
  },
  {
   "cell_type": "markdown",
   "metadata": {
    "nbgrader": {
     "grade": false,
     "grade_id": "md-step3",
     "locked": true,
     "schema_version": 1,
     "solution": false
    }
   },
   "source": [
    "### Step 3: Convection and Laplacian (20 points)\n",
    "\n",
    "Complete the two functions, called **`convection`** and **`laplacian`**, to compute the convection term and Laplacian, respectively.\n",
    "\n",
    "The **`convection`** function should return the value of $\\frac{\\partial}{\\partial x} \\left( \\frac{u^2}{2} \\right)$ **at interior points**.\n",
    "\n",
    "The **`laplacian`** function should return the value of $\\frac{\\partial^2 u}{\\partial x^2}$ **at interior points**.\n",
    "\n",
    "Approximate first-order derivatives with a backward-difference formula and second-order derivatives with a central-difference formula."
   ]
  },
  {
   "cell_type": "code",
   "execution_count": 8,
   "metadata": {
    "nbgrader": {
     "grade": false,
     "grade_id": "cell-step3",
     "locked": false,
     "schema_version": 1,
     "solution": true
    }
   },
   "outputs": [
    {
     "name": "stdout",
     "output_type": "stream",
     "text": [
      "1.868057048753236\n",
      "5.787228678499092\n"
     ]
    }
   ],
   "source": [
    "def convection(u, dx):\n",
    "    \"\"\"Compute the convection term.\n",
    "\n",
    "    Parameters\n",
    "    ----------\n",
    "    u : numpy.ndarray\n",
    "        Solution in the domain (1D array of floats).\n",
    "    dx : float\n",
    "        Grid-spacing size.\n",
    "\n",
    "    Returns\n",
    "    -------\n",
    "    numpy.ndarray\n",
    "        The convection term at interior points (1D array of floats).\n",
    "\n",
    "    \"\"\"\n",
    "    ### BEGIN SOLUTION\n",
    "    u2 = u*u / 2\n",
    "    \n",
    "    du2_dx = (u2[2:] - u2[:-2]) / (2*dx)\n",
    "    \n",
    "    return du2_dx\n",
    "    \n",
    "    ### END SOLUTION\n",
    "\n",
    "\n",
    "def laplacian(u, dx):\n",
    "    \"\"\"Compute the Laplacian.\n",
    "\n",
    "    Parameters\n",
    "    ----------\n",
    "    u : numpy.ndarray\n",
    "        Solution in the domain (1D array of floats).\n",
    "    dx : float\n",
    "        Grid-spacing size.\n",
    "\n",
    "    Returns\n",
    "    -------\n",
    "    numpy.ndarray\n",
    "        Laplacian of solution at interior points (1D array of floats).\n",
    "\n",
    "    \"\"\"\n",
    "    ### BEGIN SOLUTION\n",
    "    \n",
    "    d2u_dx2 = (u[2:] - 2*u[1:-1] + u[:-2]) / (dx)**2\n",
    "    \n",
    "    return d2u_dx2\n",
    "\n",
    "    ### END SOLUTION\n",
    "    \n",
    "\n",
    "### Print (Do not erase)\n",
    "\n",
    "print(numpy.max(convection(u0, dx)))\n",
    "print(numpy.max(laplacian(u0, dx)))"
   ]
  },
  {
   "cell_type": "markdown",
   "metadata": {
    "nbgrader": {
     "grade": false,
     "grade_id": "md-step4",
     "locked": true,
     "schema_version": 1,
     "solution": false
    }
   },
   "source": [
    "### Step 4: Right-hand side of PDE (15 points)\n",
    "\n",
    "$$\n",
    "f \\left( u \\right) = - \\frac{\\partial}{\\partial x} \\left( \\frac{u^2}{2} \\right) + \\nu \\frac{\\partial^2 u}{\\partial x^2}\n",
    "$$\n",
    "\n",
    "Complete the function called **`rhs_burgers`** that computes and returns the right-hand side $f (u)$ of the PDE.\n",
    "(Yes! You can use the functions **`convection`** and **`laplacian`** you created above.)"
   ]
  },
  {
   "cell_type": "code",
   "execution_count": 9,
   "metadata": {
    "nbgrader": {
     "grade": false,
     "grade_id": "cell-step4",
     "locked": false,
     "schema_version": 1,
     "solution": true
    }
   },
   "outputs": [
    {
     "name": "stdout",
     "output_type": "stream",
     "text": [
      "1.847653095871012\n"
     ]
    }
   ],
   "source": [
    "def rhs_burgers(u, dx, nu, uL, uR):\n",
    "    \"\"\"Return the right-hand side of the PDE.\n",
    "    \n",
    "    Parameters\n",
    "    ----------\n",
    "    u : numpy.ndarray\n",
    "        Solution at interior points (1D array of floats).\n",
    "    dx : float\n",
    "        Grid-spacing size.\n",
    "    nu : float\n",
    "        Coefficient of diffusion.\n",
    "    uL : float\n",
    "        Left boundary value.\n",
    "    uR : float\n",
    "        Right boundary value.\n",
    "\n",
    "    Returns\n",
    "    -------\n",
    "    numpy.ndarray\n",
    "        Right-hand side at interior points (1D array of floats).\n",
    "\n",
    "    \"\"\"\n",
    "    # NOTE : Since input parameter \"u\" is only the solution at interior\n",
    "    # points and that our \"convection\" and \"laplacian\" functions\n",
    "    # require the solution including the boundary values,\n",
    "    # we extend the array \"u\" to insert the boundary values.\n",
    "    u = numpy.concatenate(([uL], u, [uR]))\n",
    "    \n",
    "    ### BEGIN SOLUTION\n",
    "    return -convection(u, dx) + nu * laplacian(u, dx)\n",
    "    \n",
    "    ### END SOLUTION\n",
    "\n",
    "### Print (Do not erase)\n",
    "print(numpy.max(rhs_burgers(u0[1:-1], dx, 0.005, u0[0], u0[-1])))"
   ]
  },
  {
   "cell_type": "markdown",
   "metadata": {
    "nbgrader": {
     "grade": false,
     "grade_id": "md-step5",
     "locked": true,
     "schema_version": 1,
     "solution": false
    }
   },
   "source": [
    "### Step 5: TVD RK3 (15 points)\n",
    "\n",
    "$$\n",
    "\\begin{split}\n",
    "    &u^{(1)} &= u^n + \\Delta t f\\left( u^n \\right) \\\\\n",
    "    &u^{(2)} &= \\frac{3}{4} u^n + \\frac{1}{4} u^{(1)} + \\frac{1}{4} \\Delta t f\\left( u^{(1)} \\right) \\\\\n",
    "    &u^{n+1} &= \\frac{1}{3} u^n + \\frac{2}{3} u^{(2)} + \\frac{2}{3} \\Delta t f\\left( u^{(2)} \\right)\n",
    "\\end{split}\n",
    "$$\n",
    "\n",
    "Complete the function (called **`rk3_tvd`**) that computes and returns the solution (at interior points) at the next time step."
   ]
  },
  {
   "cell_type": "code",
   "execution_count": 10,
   "metadata": {
    "nbgrader": {
     "grade": false,
     "grade_id": "cell-step5",
     "locked": false,
     "schema_version": 1,
     "solution": true
    }
   },
   "outputs": [],
   "source": [
    "def rk3_tvd(u, dt, f, *args):\n",
    "    \"\"\"Advance the solution by one step using TVD RK3.\n",
    "\n",
    "    Parameters\n",
    "    ----------\n",
    "    u : numpy.ndarray\n",
    "        Previous solution at interior points.\n",
    "    dt : float\n",
    "        Time-step size.\n",
    "    f : function\n",
    "        Function to compute the right-hand side of the PDE.\n",
    "    args : arguments\n",
    "        Positional arguments to pass to the right-hand side function.\n",
    "\n",
    "    Returns\n",
    "    -------\n",
    "    numpy.ndarray\n",
    "        Solution at interior points at the next time step.\n",
    "\n",
    "    \"\"\"\n",
    "    ### BEGIN SOLUTION\n",
    "    \n",
    "    u1 = u + f(u, *args) * dt\n",
    "    u2 = 3/4 * u + 1/4 * u1 + 1/4 * f(u1, *args) * dt\n",
    "    u3 = 1/3 * u + 2/3 * u2 + 2/3 * 2/3 * f(u2, *args) * dt\n",
    "    \n",
    "    return u3\n",
    "\n",
    "    ### END SOLUTION"
   ]
  },
  {
   "cell_type": "markdown",
   "metadata": {
    "nbgrader": {
     "grade": false,
     "grade_id": "md-step6",
     "locked": true,
     "schema_version": 1,
     "solution": false
    }
   },
   "source": [
    "### Step 6: Solver (10 points)\n",
    "\n",
    "Create a function (called **`advance`**) to advance the solution in time given some initial conditions, using the TVD RK3 scheme."
   ]
  },
  {
   "cell_type": "code",
   "execution_count": 17,
   "metadata": {
    "nbgrader": {
     "grade": true,
     "grade_id": "cell-step6",
     "locked": false,
     "points": 5,
     "schema_version": 1,
     "solution": true
    }
   },
   "outputs": [],
   "source": [
    "def advance(u0, dt, nt, f, *args):\n",
    "    \"\"\"Advance the solution over a given number of time steps.\n",
    "    \n",
    "    Parameters\n",
    "    ----------\n",
    "    u0 : numpy.ndarray\n",
    "        Initial solution of the variable (1D array of floats).\n",
    "    dt : float\n",
    "        Time-step size.\n",
    "    nt : int\n",
    "        Number of time steps to compute.\n",
    "    f : function\n",
    "        Function that computes the right-hand side of the PDE.\n",
    "    args : arguments\n",
    "        Positional arguments to pass to the right-hand side function.\n",
    "   \n",
    "    Returns\n",
    "    -------\n",
    "    numpy.ndarray\n",
    "        Solution at the final time step (1D array of floats).\n",
    "    \n",
    "    \"\"\"\n",
    "    ### BEGIN SOLUTION\n",
    "    u = np.copy(u0)\n",
    "    \n",
    "    for i in range(nt):\n",
    "        u[1:-1] = rk3_tvd(u[1:-1], dt, f, *args)\n",
    "        \n",
    "    return u\n",
    "    \n",
    "    ### END SOLUTION"
   ]
  },
  {
   "cell_type": "markdown",
   "metadata": {
    "nbgrader": {
     "grade": false,
     "grade_id": "md-step7",
     "locked": true,
     "schema_version": 1,
     "solution": false
    }
   },
   "source": [
    "### Step 7: Advance solution (10 points)\n",
    "\n",
    "Compute the solution at time $t_f = 2$ using $\\Delta t = 4 \\times 10^{-3}$."
   ]
  },
  {
   "cell_type": "code",
   "execution_count": 31,
   "metadata": {
    "nbgrader": {
     "grade": true,
     "grade_id": "cell-step7",
     "locked": false,
     "points": 5,
     "schema_version": 1,
     "solution": true
    }
   },
   "outputs": [],
   "source": [
    "### BEGIN SOLUTION\n",
    "tf = 2\n",
    "dt = 4e-3\n",
    "nt = int(tf/dt)\n",
    "\n",
    "NU = 0.005\n",
    "\n",
    "uL = u0[0]\n",
    "uR = u0[-1]\n",
    "\n",
    "burgers_args = (dx, NU, uL, uR)\n",
    "\n",
    "u = advance(u0, dt, nt, rhs_burgers, *burgers_args)\n",
    "\n",
    "NU1 = 0.1\n",
    "burgers_args = (dx, NU1, uL, uR)\n",
    "unu1 = advance(u0, dt, nt, rhs_burgers, *burgers_args)\n",
    "\n",
    "### END SOLUTION"
   ]
  },
  {
   "cell_type": "markdown",
   "metadata": {
    "nbgrader": {
     "grade": false,
     "grade_id": "md-step8",
     "locked": true,
     "schema_version": 1,
     "solution": false
    }
   },
   "source": [
    "### Step 8: Visualize the solution (10 points)\n",
    "\n",
    "Create a Matplotlib figure to visualize the initial solution and the final solution (at $t_f = 2$). (Make a pretty figure; don't forget to add axis labels and a legend.)"
   ]
  },
  {
   "cell_type": "code",
   "execution_count": 35,
   "metadata": {
    "nbgrader": {
     "grade": true,
     "grade_id": "cell-step8",
     "locked": false,
     "points": 5,
     "schema_version": 1,
     "solution": true
    }
   },
   "outputs": [
    {
     "data": {
      "text/plain": [
       "<matplotlib.legend.Legend at 0x2a117146eb0>"
      ]
     },
     "execution_count": 35,
     "metadata": {},
     "output_type": "execute_result"
    },
    {
     "data": {
      "image/png": "[encoded data removed]",
      "text/plain": [
       "<Figure size 700x500 with 1 Axes>"
      ]
     },
     "metadata": {
      "needs_background": "light"
     },
     "output_type": "display_data"
    }
   ],
   "source": [
    "### BEGIN SOLUTION\n",
    "\n",
    "fig, ax = pyp.subplots(figsize = (7,5), dpi = 100)\n",
    "\n",
    "\n",
    "ax.plot(x, u0, label = f\"u, t = {0}s\", color = 'gray', linestyle = \":\")\n",
    "ax.plot(x, u, label = f\"u, t = {tf}s, $\\\\nu$ = {NU}\", color = 'maroon')\n",
    "ax.plot(x, unu1, label = f\"u, t = {tf}s, $\\\\nu$ = {NU1}\", color = 'royalblue')\n",
    "ax.plot(x, unu1, )\n",
    "ax.set_xlabel(\"$x$\")\n",
    "ax.set_ylabel(\"$u$\")\n",
    "\n",
    "ax.legend()\n",
    "\n",
    "### END SOLUTION"
   ]
  },
  {
   "cell_type": "markdown",
   "metadata": {},
   "source": [
    "### Step 9: Comment on the final solution (10 points)\n",
    "\n",
    "In short please answer the following questions:"
   ]
  },
  {
   "cell_type": "markdown",
   "metadata": {},
   "source": [
    "### Step 9.1:\n",
    "What is the maximum value of u at $t_f = 2$?"
   ]
  },
  {
   "cell_type": "code",
   "execution_count": 29,
   "metadata": {},
   "outputs": [
    {
     "name": "stdout",
     "output_type": "stream",
     "text": [
      "Max u = 0.906 at tf = 2\n"
     ]
    }
   ],
   "source": [
    "### BEGIN SOLUTION\n",
    "\n",
    "\n",
    "print(f\"Max u = {np.max(u):.3f} at tf = {tf}\")\n",
    "### END SOLUTION"
   ]
  },
  {
   "cell_type": "markdown",
   "metadata": {},
   "source": [
    "### Step 9.2:\n",
    "What is the absolute relative difference between the maximum value of the initial (u0) and the final solution (u) at $t_f = 2$?"
   ]
  },
  {
   "cell_type": "code",
   "execution_count": 30,
   "metadata": {},
   "outputs": [
    {
     "name": "stdout",
     "output_type": "stream",
     "text": [
      "Absolute Relative Difference between max at t = 0, and max at t = 2:\n",
      "14.6%\n"
     ]
    }
   ],
   "source": [
    "### BEGIN SOLUTION\n",
    "\n",
    "maxu0 = np.max(u0)\n",
    "maxu2 = np.max(u)\n",
    "\n",
    "rel_diff = np.abs( (maxu2 - maxu0)/maxu0 )\n",
    "\n",
    "print(f\"Absolute Relative Difference between max at t = 0, and max at t = 2:\\n{100*rel_diff:.1f}%\")\n",
    "\n",
    "### END SOLUTION"
   ]
  },
  {
   "cell_type": "markdown",
   "metadata": {},
   "source": [
    "### Step 9.3:\n",
    "What happens to the solution when $\\nu = 0.1$ compared to the orginal solution (i.e. when $\\nu = 0.005$) and to which term of the equation can we attribute the observed difference? (No need for a figure here)\n",
    "\n",
    "With a higher nu value the laplacian has more weight and the u value diffuses more. This can be seen in the solution as the maximum values is lower and the peak more spread out. AtThe enhanced diffusion also stops the shockwave which is characterisitic of the non-linear burgers from forming at least at 2 seconds."
   ]
  },
  {
   "cell_type": "markdown",
   "metadata": {},
   "source": []
  },
  {
   "cell_type": "markdown",
   "metadata": {
    "nbgrader": {
     "grade": false,
     "grade_id": "md-done",
     "locked": true,
     "schema_version": 1,
     "solution": false
    }
   },
   "source": [
    "# Have a nice break and a Merry Christmas!"
   ]
  }
 ],
 "metadata": {
  "celltoolbar": "Create Assignment",
  "kernelspec": {
   "display_name": "Python 3 (ipykernel)",
   "language": "python",
   "name": "python3"
  },
  "language_info": {
   "codemirror_mode": {
    "name": "ipython",
    "version": 3
   },
   "file_extension": ".py",
   "mimetype": "text/x-python",
   "name": "python",
   "nbconvert_exporter": "python",
   "pygments_lexer": "ipython3",
   "version": "3.8.13"
  }
 },
 "nbformat": 4,
 "nbformat_minor": 2
}
