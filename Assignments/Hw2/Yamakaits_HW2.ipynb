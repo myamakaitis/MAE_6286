{
 "cells": [
  {
   "cell_type": "markdown",
   "metadata": {},
   "source": [
    "Before you turn in your homework, make sure everything runs as expected.\n",
    "\n",
    "Make sure you execute every single code cell.\n",
    "\n",
    "**IMPORTANT:**\n",
    "\n",
    "* **DO NOT DELETE ANY CELL** and do not change the title of the Notebook.\n",
    "\n",
    "* Before you turn in your homework, make sure everything runs as expected: restart the kernel (in the menubar, select Kernel $\\rightarrow$ Restart) and then run all cells (in the menubar, select Cell $\\rightarrow$ Run All).\n",
    "\n",
    "Fill your name below:"
   ]
  },
  {
   "cell_type": "code",
   "execution_count": 1,
   "metadata": {},
   "outputs": [],
   "source": [
    "name = \"Mark Yamakaitis\""
   ]
  },
  {
   "cell_type": "markdown",
   "metadata": {
    "nbgrader": {
     "grade": false,
     "grade_id": "md-intro",
     "locked": true,
     "schema_version": 1,
     "solution": false
    }
   },
   "source": [
    "# Assignment: Traffic Flow\n",
    "\n",
    "---\n",
    "\n",
    "Consider the flow of traffic on a one-lane highway.\n",
    "How can we describe the general behavior of this system?\n",
    "\n",
    "We can define the speed of traffic, $V$, in kilometers per hour.\n",
    "We can also define a traffic density, the number of cars per unit length of highway, $\\rho$, in cars per kilometer.\n",
    "Finally, we can define a traffic flux, or the flow rate of cars, $F$,in cars per hour.\n",
    "\n",
    "Now make a few assumptions about how traffic moves.\n",
    "\n",
    "If $\\rho$ approaches $0$, i.e. there are very few cars on the road, then cars will drive as fast as they can at some $V_\\text{max}$.\n",
    "\n",
    "Conversely, if cars are bumper to bumper along the road, then $\\rho$ approaches a $\\rho_\\text{max}$ and $V$ approaches $0$.\n",
    "\n",
    "One possible equation to describe this behavior is\n",
    "\n",
    "$$\n",
    "\\begin{equation}\n",
    "    V = V_\\text{max} \\left( 1 - \\frac{\\rho}{\\rho_\\text{max}} \\right)\n",
    "\\end{equation}\n",
    "$$\n",
    "\n",
    "If we describe the traffic flux, $F$ as $F = \\rho V$, then\n",
    "\n",
    "$$\n",
    "\\begin{equation}\n",
    "    F = F \\left( \\rho \\right) = V \\left( \\rho \\right) \\rho = V_\\text{max} \\rho \\left( 1 - \\frac{\\rho}{\\rho_{max}} \\right)\n",
    "\\end{equation}\n",
    "$$\n",
    "\n",
    "Unsteady traffic flow can be modeled as the non-linear convection of car density, so we apply the non-linear convection equation with $V$, the wave speed, equal to $\\frac{\\partial F}{\\partial \\rho}$:\n",
    "\n",
    "$$\n",
    "\\begin{equation}\n",
    "    \\frac{\\partial \\rho}{\\partial t} + \\frac{\\partial F}{\\partial \\rho} \\frac{\\partial \\rho}{\\partial x} = 0\n",
    "\\end{equation}\n",
    "$$\n",
    "\n",
    "Applying the chain rule of calculus, this becomes\n",
    "\n",
    "$$\n",
    "\\begin{equation}\n",
    "    \\frac{\\partial \\rho}{\\partial t} + \\frac{\\partial F}{\\partial x} = 0\n",
    "\\end{equation}\n",
    "$$\n",
    "\n",
    "where $F$ is defined as above.\n",
    "The PDE above is written in conservation form.\n",
    "(See section at the end of Notebook for more details about the conservation form.)\n",
    "\n",
    "You will integrate the traffic flow equation (in conservation form) using the modified Euler's method (also called midpoint method or Runge-Kutta second-order method).\n",
    "You will discretize the first-order spatial derivative with a backward-difference quotient:\n",
    "\n",
    "$$\n",
    "\\begin{equation}\n",
    "    \\left. \\frac{\\partial F}{\\partial x} \\right|_i = \\frac{F_i - F_{i-1}}{\\Delta x} = \\frac{F(\\rho_i) - F(\\rho_{i-1})}{\\Delta x}\n",
    "\\end{equation}\n",
    "$$\n",
    "\n",
    "Examine a stretch of road $22$ kilometers long using the following conditions:\n",
    "\n",
    "* $V_\\text{max} = 90 \\; \\text{km/h}$\n",
    "* $L = 25 \\; \\text{km}$\n",
    "* $\\rho_\\text{max} = 100 \\; \\text{cars/km}$\n",
    "* $nx = 101$ (number of points to discretize the road of length $L$)\n",
    "* $\\Delta t = 0.001 \\; \\text{hours}$"
   ]
  },
  {
   "cell_type": "markdown",
   "metadata": {
    "nbgrader": {
     "grade": false,
     "grade_id": "md-solution",
     "locked": true,
     "schema_version": 1,
     "solution": false
    }
   },
   "source": [
    "## Implement your solution (40 points)\n",
    "\n",
    "---\n",
    "\n",
    "Implement your solution in this section.\n",
    "You can use as many code cells as you want."
   ]
  },
  {
   "cell_type": "code",
   "execution_count": 2,
   "metadata": {
    "nbgrader": {
     "grade": true,
     "grade_id": "code-solution",
     "locked": false,
     "points": 40,
     "schema_version": 1,
     "solution": true
    }
   },
   "outputs": [],
   "source": [
    "#-------- Import libraries --------\n",
    "import numpy as np\n",
    "import pandas as pd\n",
    "import matplotlib.pyplot as pyp\n",
    "from typing import Callable\n",
    "from time import perf_counter\n",
    "\n",
    "from IPython.display import display, Markdown\n",
    "def printm(string):\n",
    "    display(Markdown(string))"
   ]
  },
  {
   "cell_type": "code",
   "execution_count": 3,
   "metadata": {},
   "outputs": [],
   "source": [
    "#-------- Write code --------\n",
    "# Initial distributions\n",
    "def R0A(x):\n",
    "    if x >= 2 and x <= 4.2:\n",
    "        return 50.0\n",
    "    else:\n",
    "        return 10.0\n",
    "    \n",
    "def R0B(x):\n",
    "    if x >= 2 and x <= 4.2:\n",
    "        return 50.0\n",
    "    else:\n",
    "        return 20.0\n",
    "\n",
    "# Vectorize the functions to pass arrays\n",
    "R0B = np.vectorize(R0B)\n",
    "R0A = np.vectorize(R0A)\n",
    "\n",
    "# class to hold road parameters with methods to calculate derivatives and integrate\n",
    "class Road:\n",
    "    def __init__(self, L: float, Nx: int, Vmax: float, Rmax: float, R0: Callable[[float], float]):\n",
    "        \"\"\"\n",
    "            Parameters\n",
    "            ----------\n",
    "            L : road length\n",
    "            Nx: Number of Discrete points\n",
    "            Vmax: Maximum car velocity [km/r]\n",
    "            Rmax: Maximum car density [cars/km]\n",
    "            R0: Initial density as a function of x along the road\n",
    "        \"\"\"\n",
    "        self.L = L\n",
    "        self.Vmax = Vmax\n",
    "        self.Rmax = Rmax\n",
    "        \n",
    "        self.X = np.linspace(0, L, Nx, dtype=np.float64)        \n",
    "        self.dL = self.X[1]-self.X[0]\n",
    "        \n",
    "        self.R = R0(self.X)\n",
    "        self.VelFlux()\n",
    "        \n",
    "    def VelFlux(self):\n",
    "        \"\"\"\n",
    "            calculates car velocity and flux along the road\n",
    "        \"\"\"\n",
    "        self.V = self.Vmax * (1- self.R/self.Rmax)\n",
    "        self.F = self.R * self.V\n",
    "        \n",
    "    def D(self):\n",
    "        \"\"\"\n",
    "            calculates dF/dx and dR/dt at interior points\n",
    "        \"\"\"\n",
    "        self.dF = (self.F[1:-1] - self.F[:-2]) / self.dL\n",
    "        self.dR = -self.dF\n",
    "        \n",
    "    def updateVFR(self, dt):\n",
    "        \"\"\"\n",
    "            updates density at the interior points using the current values of dR/dt and a timestep\n",
    "        \"\"\"\n",
    "        self.R[1:-1] += self.dR * dt\n",
    "        self.VelFlux()\n",
    "        \n",
    "    def stepR_rk2(self, dt):\n",
    "        \"\"\"\n",
    "            calculate the road's state after dt using a runge-kutta 2nd order method\n",
    "        \"\"\"\n",
    "        self.Rc = np.copy(self.R) # copy initial density state to a copy\n",
    "        self.D() # calculate derivatives\n",
    "        self.updateVFR(.5 * dt) # step the halfway through the timestep, recalculate V, F\n",
    "        self.D() # calulate derivatives at the half step\n",
    "        self.R = np.copy(self.Rc) # reset the density to the beginning of the step\n",
    "        self.updateVFR(dt) #update R using midpoint derivatives, update V, F\n",
    "\n",
    "def kmh_to_ms(v):\n",
    "    \"\"\"\n",
    "        convert from km/hr to m/s\n",
    "    \"\"\"\n",
    "    return v / 3.6"
   ]
  },
  {
   "cell_type": "code",
   "execution_count": 4,
   "metadata": {},
   "outputs": [],
   "source": [
    "# Road Params\n",
    "L = 25\n",
    "Nx = 101\n",
    "VmaxA = 90\n",
    "VmaxB = 130\n",
    "Rmax = 100\n",
    "\n",
    "dt = 1e-3"
   ]
  },
  {
   "cell_type": "code",
   "execution_count": 29,
   "metadata": {},
   "outputs": [],
   "source": [
    "# step a road through a number of timesteps, keep a history of previous steps\n",
    "def SolveTraffic(road, dt, t_limit):\n",
    "    ts = np.arange(0,t_limit+.5*dt,dt)\n",
    "    \n",
    "    Rhist = pd.DataFrame(columns=road.X, index=ts, dtype=np.float64)\n",
    "    Vhist = pd.DataFrame(columns=road.X, index=ts, dtype=np.float64)\n",
    "    t1 = perf_counter()\n",
    "    for t in ts:\n",
    "        Rhist.loc[t,:] = road.R\n",
    "        Vhist.loc[t,:] = road.V\n",
    "        road.stepR_rk2(dt)\n",
    "#     Rhist.to_csv(\"Rhist.csv\")\n",
    "#     Vhist.to_csv(\"Vhist.csv\")\n",
    "    t2 = perf_counter()\n",
    "    print(f\"Computation Time = {(t2-t1)*1e3:.3f}ms\")\n",
    "    return Rhist, Vhist"
   ]
  },
  {
   "cell_type": "markdown",
   "metadata": {
    "nbgrader": {
     "grade": false,
     "grade_id": "md-assessment",
     "locked": true,
     "schema_version": 1,
     "solution": false
    }
   },
   "source": [
    "## Assessment (60 points)\n",
    "\n",
    "---\n",
    "\n",
    "Answer questions in this section.\n"
   ]
  },
  {
   "cell_type": "markdown",
   "metadata": {
    "nbgrader": {
     "grade": false,
     "grade_id": "md-partA",
     "locked": true,
     "schema_version": 1,
     "solution": false
    }
   },
   "source": [
    "### Part A\n",
    "\n",
    "Use the following initial condition\n",
    "\n",
    "$$\n",
    "\\begin{equation}\n",
    "    \\rho_0 = \\rho \\left(x, t = 0 \\right) =\n",
    "    \\begin{cases}\n",
    "        50 \\quad \\text{if} \\; 2 \\leq x \\leq 4.2 \\\\\n",
    "        10 \\quad \\text{otherwise}\n",
    "    \\end{cases}\n",
    "    ,\\quad \\forall x \\in \\left[ 0, L \\right]\n",
    "\\end{equation}\n",
    "$$\n",
    "\n",
    "and the following boundary condition\n",
    "\n",
    "$$\n",
    "\\begin{equation}\n",
    "    \\rho \\left( x=0, t \\right) = \\rho \\left( x=L, t \\right) = 10, \\quad \\forall t\n",
    "\\end{equation}\n",
    "$$\n",
    "\n",
    "to answer questions Q1, Q2, Q3, and Q4."
   ]
  },
  {
   "cell_type": "code",
   "execution_count": 30,
   "metadata": {},
   "outputs": [
    {
     "name": "stdout",
     "output_type": "stream",
     "text": [
      "Computation Time = 170.615ms\n"
     ]
    }
   ],
   "source": [
    "t_lim = .5\n",
    "HighwayA = Road(L, Nx, VmaxA, Rmax, R0A)\n",
    "RAH, VAH = SolveTraffic(HighwayA, dt, t_lim)\n",
    "VAH = VAH.apply(kmh_to_ms)"
   ]
  },
  {
   "cell_type": "markdown",
   "metadata": {
    "nbgrader": {
     "grade": false,
     "grade_id": "md-question1",
     "locked": true,
     "schema_version": 1,
     "solution": false
    }
   },
   "source": [
    "* **Q1 (5 points):** What's the minimum initial velocity in meters per second?\n",
    "\n",
    "Hint :\n",
    "\\\n",
    "       ~ 12.50 m/s"
   ]
  },
  {
   "cell_type": "code",
   "execution_count": 7,
   "metadata": {
    "nbgrader": {
     "grade": false,
     "grade_id": "code-answer1",
     "locked": false,
     "schema_version": 1,
     "solution": true
    }
   },
   "outputs": [
    {
     "data": {
      "text/markdown": [
       "Minimum Velocity at $t=0.0$ min : $12.50$ m/s"
      ],
      "text/plain": [
       "<IPython.core.display.Markdown object>"
      ]
     },
     "metadata": {},
     "output_type": "display_data"
    }
   ],
   "source": [
    "#-------- Write code --------\n",
    "t = 0.0\n",
    "V0min = VAH.loc[t,:].min()\n",
    "t*=60\n",
    "printm(f\"Minimum Velocity at ${t=}$ min : ${V0min:.2f}$ m/s\") "
   ]
  },
  {
   "cell_type": "markdown",
   "metadata": {
    "nbgrader": {
     "grade": false,
     "grade_id": "md-question2",
     "locked": true,
     "schema_version": 1,
     "solution": false
    }
   },
   "source": [
    "* **Q2 (10 points):** What's the average velocity, in meters per second, along the road after $4$ minutes?\n",
    "\n",
    "Hint :\n",
    "\\\n",
    "       ~ 21.60 m/s"
   ]
  },
  {
   "cell_type": "code",
   "execution_count": 8,
   "metadata": {
    "nbgrader": {
     "grade": false,
     "grade_id": "code-answer2",
     "locked": false,
     "schema_version": 1,
     "solution": true
    }
   },
   "outputs": [
    {
     "data": {
      "text/markdown": [
       "Mean Velocity at $t=4.02$ min : $21.61$ m/s"
      ],
      "text/plain": [
       "<IPython.core.display.Markdown object>"
      ]
     },
     "metadata": {},
     "output_type": "display_data"
    }
   ],
   "source": [
    "#-------- Write code --------\n",
    "t = 4 / 60\n",
    "t = np.around(t, decimals =3)\n",
    "\n",
    "Vmean = VAH.loc[t,:].mean()\n",
    "t*=60\n",
    "printm(f\"Mean Velocity at ${t=:.2f}$ min : ${Vmean:.2f}$ m/s\") "
   ]
  },
  {
   "cell_type": "markdown",
   "metadata": {
    "nbgrader": {
     "grade": false,
     "grade_id": "md-question3",
     "locked": true,
     "schema_version": 1,
     "solution": false
    }
   },
   "source": [
    "* **Q3 (10 points):** What's the minimum velocity, in meters per second, after $8$ minutes?\n",
    "\n",
    "Hint :\n",
    "\\\n",
    "       ~ 17.32 m/s"
   ]
  },
  {
   "cell_type": "code",
   "execution_count": 9,
   "metadata": {
    "nbgrader": {
     "grade": false,
     "grade_id": "code-answer3",
     "locked": false,
     "schema_version": 1,
     "solution": true
    }
   },
   "outputs": [
    {
     "data": {
      "text/markdown": [
       "Minimum Velocity at $t=7.98$ min : $17.32$ m/s"
      ],
      "text/plain": [
       "<IPython.core.display.Markdown object>"
      ]
     },
     "metadata": {},
     "output_type": "display_data"
    }
   ],
   "source": [
    "#-------- Write code --------\n",
    "t = 8 / 60\n",
    "t = np.around(t, decimals =3)\n",
    "Vmin = VAH.loc[t,:].min()\n",
    "t*=60\n",
    "printm(f\"Minimum Velocity at ${t=:.2f}$ min : ${Vmin:.2f}$ m/s\") "
   ]
  },
  {
   "cell_type": "markdown",
   "metadata": {
    "nbgrader": {
     "grade": false,
     "grade_id": "md-question4",
     "locked": true,
     "schema_version": 1,
     "solution": false
    }
   },
   "source": [
    "* **Q4 (5 points):** What's the maximum car density, in cars per kilometer, along the road after 8 minutes?\n",
    "\n",
    "Hint :\n",
    "\\\n",
    "       ~ 30.71 cars/km"
   ]
  },
  {
   "cell_type": "code",
   "execution_count": 10,
   "metadata": {
    "nbgrader": {
     "grade": false,
     "grade_id": "code-answer4",
     "locked": false,
     "schema_version": 1,
     "solution": true
    }
   },
   "outputs": [
    {
     "data": {
      "text/markdown": [
       "Maximum Density at $t=7.98$ min : $100.00$ m/s"
      ],
      "text/plain": [
       "<IPython.core.display.Markdown object>"
      ]
     },
     "metadata": {},
     "output_type": "display_data"
    }
   ],
   "source": [
    "#-------- Write code --------\n",
    "t = 8 / 60\n",
    "t = np.around(t, decimals =3)\n",
    "Rmax8 = RAH.loc[t,:].max()\n",
    "t*=60\n",
    "printm(f\"Maximum Density at ${t=:.2f}$ min : ${Rmax:.2f}$ m/s\") "
   ]
  },
  {
   "cell_type": "markdown",
   "metadata": {
    "nbgrader": {
     "grade": false,
     "grade_id": "md-partB",
     "locked": true,
     "schema_version": 1,
     "solution": false
    }
   },
   "source": [
    "### Part B\n",
    "\n",
    "Now, set $V_\\text{max} = 130 \\; \\text{km/hr}$ and redo the simulations using the following initial condition for the traffic density\n",
    "\n",
    "$$\n",
    "\\begin{equation}\n",
    "    \\rho_0 = \\rho \\left(x, t = 0 \\right) =\n",
    "    \\begin{cases}\n",
    "        50 \\quad \\text{if} \\; 2 \\leq x \\leq 4.2 \\\\\n",
    "        20 \\quad \\text{otherwise}\n",
    "    \\end{cases}\n",
    "    ,\\quad \\forall x \\in \\left[ 0, L \\right]\n",
    "\\end{equation}\n",
    "$$\n",
    "\n",
    "and the following boundary condition\n",
    "\n",
    "$$\n",
    "\\begin{equation}\n",
    "    \\rho \\left( x=0, t \\right) = \\rho \\left( x=L, t \\right) = 20, \\quad \\forall t\n",
    "\\end{equation}\n",
    "$$\n",
    "\n",
    "Redo the simulations to answer questions Q5, Q6, Q7, and Q8."
   ]
  },
  {
   "cell_type": "code",
   "execution_count": 11,
   "metadata": {
    "nbgrader": {
     "grade": true,
     "grade_id": "code-partB-params",
     "locked": false,
     "points": 0,
     "schema_version": 1,
     "solution": true
    }
   },
   "outputs": [
    {
     "name": "stdout",
     "output_type": "stream",
     "text": [
      "Computation Time = 299.198ms\n"
     ]
    }
   ],
   "source": [
    "#-------- Write code --------\n",
    "HighwayB = Road(L, Nx, VmaxB, Rmax, R0B)\n",
    "RBH, VBH = SolveTraffic(HighwayB, dt, t_lim)\n",
    "VBH = VBH.apply(kmh_to_ms)"
   ]
  },
  {
   "cell_type": "markdown",
   "metadata": {
    "nbgrader": {
     "grade": false,
     "grade_id": "md-question5",
     "locked": true,
     "schema_version": 1,
     "solution": false
    }
   },
   "source": [
    "* **Q5 (5 points):** What's the minimum initial velocity in meters per second?\n",
    "\n",
    "Hint :\n",
    "\\\n",
    "       ~ 18.05 m/s"
   ]
  },
  {
   "cell_type": "code",
   "execution_count": 12,
   "metadata": {
    "nbgrader": {
     "grade": false,
     "grade_id": "code-answer5",
     "locked": false,
     "schema_version": 1,
     "solution": true
    }
   },
   "outputs": [
    {
     "data": {
      "text/markdown": [
       "Minimum Velocity at $t=0.0$ min : $18.06$ m/s"
      ],
      "text/plain": [
       "<IPython.core.display.Markdown object>"
      ]
     },
     "metadata": {},
     "output_type": "display_data"
    }
   ],
   "source": [
    "#-------- Write code --------\n",
    "#-------- Write code --------\n",
    "t = 0.0\n",
    "V0min = VBH.loc[t,:].min()\n",
    "t*=60\n",
    "printm(f\"Minimum Velocity at ${t=}$ min : ${V0min:.2f}$ m/s\") "
   ]
  },
  {
   "cell_type": "markdown",
   "metadata": {
    "nbgrader": {
     "grade": false,
     "grade_id": "md-question6",
     "locked": true,
     "schema_version": 1,
     "solution": false
    }
   },
   "source": [
    "* **Q6 (10 points):** What's the average velocity, in meters per second, along the road after $4$ minutes?\n",
    "\n",
    "Hint :\n",
    "\\\n",
    "       ~ 27.92 m/s"
   ]
  },
  {
   "cell_type": "code",
   "execution_count": 13,
   "metadata": {
    "nbgrader": {
     "grade": false,
     "grade_id": "code-answer6",
     "locked": false,
     "schema_version": 1,
     "solution": true
    }
   },
   "outputs": [
    {
     "data": {
      "text/markdown": [
       "Mean Velocity at $t=4.02$ min : $27.92$ m/s"
      ],
      "text/plain": [
       "<IPython.core.display.Markdown object>"
      ]
     },
     "metadata": {},
     "output_type": "display_data"
    }
   ],
   "source": [
    "#-------- Write code --------\n",
    "t = 4 / 60\n",
    "t = np.around(t, decimals =3)\n",
    "\n",
    "Vmean = VBH.loc[t,:].mean()\n",
    "t*=60\n",
    "printm(f\"Mean Velocity at ${t=:.2f}$ min : ${Vmean:.2f}$ m/s\") "
   ]
  },
  {
   "cell_type": "markdown",
   "metadata": {
    "nbgrader": {
     "grade": false,
     "grade_id": "md-question7",
     "locked": true,
     "schema_version": 1,
     "solution": false
    }
   },
   "source": [
    "* **Q7 (10 points):** What's the minimum velocity, in meters per second, after $8$ minutes?\n",
    "\n",
    "Hint :\n",
    "\\\n",
    "       ~ 23.49 m/s"
   ]
  },
  {
   "cell_type": "code",
   "execution_count": 14,
   "metadata": {
    "nbgrader": {
     "grade": false,
     "grade_id": "code-answer7",
     "locked": false,
     "schema_version": 1,
     "solution": true
    }
   },
   "outputs": [
    {
     "data": {
      "text/markdown": [
       "Minimum Velocity at $t=7.98$ min : $23.50$ m/s"
      ],
      "text/plain": [
       "<IPython.core.display.Markdown object>"
      ]
     },
     "metadata": {},
     "output_type": "display_data"
    }
   ],
   "source": [
    "#-------- Write code --------\n",
    "t = 8 / 60\n",
    "t = np.around(t, decimals =3)\n",
    "Vmin = VBH.loc[t,:].min()\n",
    "t*=60\n",
    "printm(f\"Minimum Velocity at ${t=:.2f}$ min : ${Vmin:.2f}$ m/s\") "
   ]
  },
  {
   "cell_type": "markdown",
   "metadata": {
    "nbgrader": {
     "grade": false,
     "grade_id": "md-question8",
     "locked": true,
     "schema_version": 1,
     "solution": false
    }
   },
   "source": [
    "* **Q8 (5 points):** What's the average car density, in cars per kilometer, along the road after 8 minutes?\n",
    "\n",
    "Hint :\n",
    "\\\n",
    "       ~ 22.67 cars/km"
   ]
  },
  {
   "cell_type": "code",
   "execution_count": 15,
   "metadata": {
    "nbgrader": {
     "grade": false,
     "grade_id": "code-answer8",
     "locked": false,
     "schema_version": 1,
     "solution": true
    }
   },
   "outputs": [
    {
     "data": {
      "text/markdown": [
       "Maximum Density at $t=7.98$ min : $22.67$ m/s"
      ],
      "text/plain": [
       "<IPython.core.display.Markdown object>"
      ]
     },
     "metadata": {},
     "output_type": "display_data"
    }
   ],
   "source": [
    "#-------- Write code --------\n",
    "t = 8 / 60\n",
    "t = np.around(t, decimals =3)\n",
    "Rmean = RBH.loc[t,:].mean()\n",
    "t*=60\n",
    "printm(f\"Maximum Density at ${t=:.2f}$ min : ${Rmean:.2f}$ m/s\") "
   ]
  },
  {
   "cell_type": "code",
   "execution_count": null,
   "metadata": {},
   "outputs": [],
   "source": [
    "\n"
   ]
  },
  {
   "cell_type": "markdown",
   "metadata": {
    "nbgrader": {
     "grade": false,
     "grade_id": "md-extra",
     "locked": true,
     "schema_version": 1,
     "solution": false
    }
   },
   "source": [
    "## Conservation and non-conservation forms\n",
    "\n",
    "---\n",
    "\n",
    "The traffic flow is modeled by the following equation\n",
    "\n",
    "$$\n",
    "\\begin{equation}\n",
    "    \\frac{\\partial \\rho}{\\partial t} + \\frac{\\partial F}{\\partial x} = 0\n",
    "\\end{equation}\n",
    "$$\n",
    "\n",
    "where $\\rho$ is the density and $F$ is the flux of density given by\n",
    "\n",
    "$$\n",
    "\\begin{equation*}\n",
    "    F = F \\left( \\rho \\right) = \\rho V \\left( \\rho \\right) = \\rho V_\\text{max} \\left( 1 - \\frac{\\rho}{\\rho_\\text{max}} \\right)\n",
    "\\end{equation*}\n",
    "$$\n",
    "\n",
    "The equation above is called the **conservation form** of the traffic-flow equation.\n",
    "\n",
    "Alternatively, we could also write another equation by deriving the flux with respect to $x$:\n",
    "\n",
    "$$\n",
    "\\begin{eqnarray*}\n",
    "    \\frac{\\partial \\rho}{\\partial t} &=& -\\frac{\\partial F}{\\partial x} \\\\\n",
    "    &=& -\\frac{\\partial F}{\\partial \\rho} \\frac{\\partial \\rho}{\\partial x} \\\\\n",
    "    &=& - V_\\text{max} \\left( 1 - 2 \\frac{\\rho}{\\rho_\\text{max}} \\right) \\frac{\\partial \\rho}{\\partial x}\n",
    "\\end{eqnarray*}\n",
    "$$\n",
    "\n",
    "i.e.,\n",
    "\n",
    "$$\n",
    "\\begin{equation}\n",
    "    \\frac{\\partial \\rho}{\\partial t} + V_\\text{max} \\left( 1 - 2 \\frac{\\rho}{\\rho_\\text{max}} \\right) \\frac{\\partial \\rho}{\\partial x} = 0\n",
    "\\end{equation}\n",
    "$$\n",
    "\n",
    "The equation above is call the **non-conservation form** of the traffic-flow equation.\n",
    "\n",
    "Although the two equations are mathematically identical, their respective discrete version is different and will not lead to the same numerical solution.\n",
    "\n",
    "Suppose, we want to advance the solution in time using a first-order Euler's method while computing the space derivative using a backward-difference technique.\n",
    "\n",
    "The discrete version of the equation in conservation form is\n",
    "\n",
    "$$\n",
    "\\begin{equation}\n",
    "    \\frac{\\rho_i^{n + 1} - \\rho_i^n}{\\Delta t} + \\frac{F_i^n - F_{i-1}^n}{\\Delta x} = 0\n",
    "\\end{equation}\n",
    "$$\n",
    "\n",
    "which leads to\n",
    "\n",
    "$$\n",
    "\\begin{equation}\n",
    "    \\frac{\\rho_i^{n + 1} - \\rho_i^n}{\\Delta t} + \\frac{\\rho_i^n V_\\text{max} \\left( 1 - \\frac{\\rho_i^n}{\\rho_\\text{max}} \\right) - \\rho_{i - 1}^n V_\\text{max} \\left( 1 - \\frac{\\rho_{i - 1}^n}{\\rho_\\text{max}} \\right)}{\\Delta x} = 0\n",
    "\\end{equation}\n",
    "$$\n",
    "\n",
    "The discrete version of the equation in non-conservation form is\n",
    "\n",
    "$$\n",
    "\\begin{equation}\n",
    "    \\frac{\\rho_i^{n + 1} - \\rho_i^n}{\\Delta t} + V_\\text{max} \\left( 1 - 2 \\frac{\\rho_i^n}{\\rho_\\text{max}} \\right) \\frac{\\rho_i^n - \\rho_{i - 1}^n}{\\Delta x} = 0\n",
    "\\end{equation}\n",
    "$$\n",
    "\n",
    "You can see that the two discrete equations are different, and thus will not lead to the same numerical solution.\n",
    "\n",
    "For the second assignment of this class, you should discretize the traffic-flow equation in its conservation form."
   ]
  }
 ],
 "metadata": {
  "celltoolbar": "Create Assignment",
  "kernelspec": {
   "display_name": "Python 3 (ipykernel)",
   "language": "python",
   "name": "python3"
  },
  "language_info": {
   "codemirror_mode": {
    "name": "ipython",
    "version": 3
   },
   "file_extension": ".py",
   "mimetype": "text/x-python",
   "name": "python",
   "nbconvert_exporter": "python",
   "pygments_lexer": "ipython3",
   "version": "3.8.13"
  }
 },
 "nbformat": 4,
 "nbformat_minor": 2
}
