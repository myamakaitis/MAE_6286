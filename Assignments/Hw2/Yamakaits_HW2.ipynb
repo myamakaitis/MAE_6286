{
 "cells": [
  {
   "cell_type": "markdown",
   "metadata": {},
   "source": [
    "Before you turn in your homework, make sure everything runs as expected.\n",
    "\n",
    "Make sure you execute every single code cell.\n",
    "\n",
    "**IMPORTANT:**\n",
    "\n",
    "* **DO NOT DELETE ANY CELL** and do not change the title of the Notebook.\n",
    "\n",
    "* Before you turn in your homework, make sure everything runs as expected: restart the kernel (in the menubar, select Kernel $\\rightarrow$ Restart) and then run all cells (in the menubar, select Cell $\\rightarrow$ Run All).\n",
    "\n",
    "Fill your name below:"
   ]
  },
  {
   "cell_type": "code",
   "execution_count": null,
   "metadata": {},
   "outputs": [],
   "source": [
    "name = \"Mark Yamakaitis\""
   ]
  },
  {
   "cell_type": "markdown",
   "metadata": {
    "nbgrader": {
     "grade": false,
     "grade_id": "md-intro",
     "locked": true,
     "schema_version": 1,
     "solution": false
    }
   },
   "source": [
    "# Assignment: Traffic Flow\n",
    "\n",
    "---\n",
    "\n",
    "Consider the flow of traffic on a one-lane highway.\n",
    "How can we describe the general behavior of this system?\n",
    "\n",
    "We can define the speed of traffic, $V$, in kilometers per hour.\n",
    "We can also define a traffic density, the number of cars per unit length of highway, $\\rho$, in cars per kilometer.\n",
    "Finally, we can define a traffic flux, or the flow rate of cars, $F$,in cars per hour.\n",
    "\n",
    "Now make a few assumptions about how traffic moves.\n",
    "\n",
    "If $\\rho$ approaches $0$, i.e. there are very few cars on the road, then cars will drive as fast as they can at some $V_\\text{max}$.\n",
    "\n",
    "Conversely, if cars are bumper to bumper along the road, then $\\rho$ approaches a $\\rho_\\text{max}$ and $V$ approaches $0$.\n",
    "\n",
    "One possible equation to describe this behavior is\n",
    "\n",
    "$$\n",
    "\\begin{equation}\n",
    "    V = V_\\text{max} \\left( 1 - \\frac{\\rho}{\\rho_\\text{max}} \\right)\n",
    "\\end{equation}\n",
    "$$\n",
    "\n",
    "If we describe the traffic flux, $F$ as $F = \\rho V$, then\n",
    "\n",
    "$$\n",
    "\\begin{equation}\n",
    "    F = F \\left( \\rho \\right) = V \\left( \\rho \\right) \\rho = V_\\text{max} \\rho \\left( 1 - \\frac{\\rho}{\\rho_{max}} \\right)\n",
    "\\end{equation}\n",
    "$$\n",
    "\n",
    "Unsteady traffic flow can be modeled as the non-linear convection of car density, so we apply the non-linear convection equation with $V$, the wave speed, equal to $\\frac{\\partial F}{\\partial \\rho}$:\n",
    "\n",
    "$$\n",
    "\\begin{equation}\n",
    "    \\frac{\\partial \\rho}{\\partial t} + \\frac{\\partial F}{\\partial \\rho} \\frac{\\partial \\rho}{\\partial x} = 0\n",
    "\\end{equation}\n",
    "$$\n",
    "\n",
    "Applying the chain rule of calculus, this becomes\n",
    "\n",
    "$$\n",
    "\\begin{equation}\n",
    "    \\frac{\\partial \\rho}{\\partial t} + \\frac{\\partial F}{\\partial x} = 0\n",
    "\\end{equation}\n",
    "$$\n",
    "\n",
    "where $F$ is defined as above.\n",
    "The PDE above is written in conservation form.\n",
    "(See section at the end of Notebook for more details about the conservation form.)\n",
    "\n",
    "You will integrate the traffic flow equation (in conservation form) using the modified Euler's method (also called midpoint method or Runge-Kutta second-order method).\n",
    "You will discretize the first-order spatial derivative with a backward-difference quotient:\n",
    "\n",
    "$$\n",
    "\\begin{equation}\n",
    "    \\left. \\frac{\\partial F}{\\partial x} \\right|_i = \\frac{F_i - F_{i-1}}{\\Delta x} = \\frac{F(\\rho_i) - F(\\rho_{i-1})}{\\Delta x}\n",
    "\\end{equation}\n",
    "$$\n",
    "\n",
    "Examine a stretch of road $22$ kilometers long using the following conditions:\n",
    "\n",
    "* $V_\\text{max} = 90 \\; \\text{km/h}$\n",
    "* $L = 25 \\; \\text{km}$\n",
    "* $\\rho_\\text{max} = 100 \\; \\text{cars/km}$\n",
    "* $nx = 101$ (number of points to discretize the road of length $L$)\n",
    "* $\\Delta t = 0.001 \\; \\text{hours}$"
   ]
  },
  {
   "cell_type": "markdown",
   "metadata": {
    "nbgrader": {
     "grade": false,
     "grade_id": "md-solution",
     "locked": true,
     "schema_version": 1,
     "solution": false
    }
   },
   "source": [
    "## Implement your solution (40 points)\n",
    "\n",
    "---\n",
    "\n",
    "Implement your solution in this section.\n",
    "You can use as many code cells as you want."
   ]
  },
  {
   "cell_type": "code",
   "execution_count": null,
   "metadata": {
    "nbgrader": {
     "grade": true,
     "grade_id": "code-solution",
     "locked": false,
     "points": 40,
     "schema_version": 1,
     "solution": true
    }
   },
   "outputs": [],
   "source": [
    "#-------- Import libraries --------\n"
   ]
  },
  {
   "cell_type": "code",
   "execution_count": null,
   "metadata": {},
   "outputs": [],
   "source": [
    "#-------- Write code --------\n"
   ]
  },
  {
   "cell_type": "markdown",
   "metadata": {
    "nbgrader": {
     "grade": false,
     "grade_id": "md-assessment",
     "locked": true,
     "schema_version": 1,
     "solution": false
    }
   },
   "source": [
    "## Assessment (60 points)\n",
    "\n",
    "---\n",
    "\n",
    "Answer questions in this section.\n"
   ]
  },
  {
   "cell_type": "markdown",
   "metadata": {
    "nbgrader": {
     "grade": false,
     "grade_id": "md-partA",
     "locked": true,
     "schema_version": 1,
     "solution": false
    }
   },
   "source": [
    "### Part A\n",
    "\n",
    "Use the following initial condition\n",
    "\n",
    "$$\n",
    "\\begin{equation}\n",
    "    \\rho_0 = \\rho \\left(x, t = 0 \\right) =\n",
    "    \\begin{cases}\n",
    "        50 \\quad \\text{if} \\; 2 \\leq x \\leq 4.2 \\\\\n",
    "        10 \\quad \\text{otherwise}\n",
    "    \\end{cases}\n",
    "    ,\\quad \\forall x \\in \\left[ 0, L \\right]\n",
    "\\end{equation}\n",
    "$$\n",
    "\n",
    "and the following boundary condition\n",
    "\n",
    "$$\n",
    "\\begin{equation}\n",
    "    \\rho \\left( x=0, t \\right) = \\rho \\left( x=L, t \\right) = 10, \\quad \\forall t\n",
    "\\end{equation}\n",
    "$$\n",
    "\n",
    "to answer questions Q1, Q2, Q3, and Q4."
   ]
  },
  {
   "cell_type": "code",
   "execution_count": null,
   "metadata": {},
   "outputs": [],
   "source": [
    "#-------- Write code --------\n"
   ]
  },
  {
   "cell_type": "markdown",
   "metadata": {
    "nbgrader": {
     "grade": false,
     "grade_id": "md-question1",
     "locked": true,
     "schema_version": 1,
     "solution": false
    }
   },
   "source": [
    "* **Q1 (5 points):** What's the minimum initial velocity in meters per second?\n",
    "\n",
    "Hint :\n",
    "\\\n",
    "       ~ 12.50 m/s"
   ]
  },
  {
   "cell_type": "code",
   "execution_count": null,
   "metadata": {
    "nbgrader": {
     "grade": false,
     "grade_id": "code-answer1",
     "locked": false,
     "schema_version": 1,
     "solution": true
    }
   },
   "outputs": [],
   "source": [
    "#-------- Write code --------\n"
   ]
  },
  {
   "cell_type": "markdown",
   "metadata": {
    "nbgrader": {
     "grade": false,
     "grade_id": "md-question2",
     "locked": true,
     "schema_version": 1,
     "solution": false
    }
   },
   "source": [
    "* **Q2 (10 points):** What's the average velocity, in meters per second, along the road after $4$ minutes?\n",
    "\n",
    "Hint :\n",
    "\\\n",
    "       ~ 21.60 m/s"
   ]
  },
  {
   "cell_type": "code",
   "execution_count": null,
   "metadata": {
    "nbgrader": {
     "grade": false,
     "grade_id": "code-answer2",
     "locked": false,
     "schema_version": 1,
     "solution": true
    }
   },
   "outputs": [],
   "source": [
    "#-------- Write code --------\n"
   ]
  },
  {
   "cell_type": "markdown",
   "metadata": {
    "nbgrader": {
     "grade": false,
     "grade_id": "md-question3",
     "locked": true,
     "schema_version": 1,
     "solution": false
    }
   },
   "source": [
    "* **Q3 (10 points):** What's the minimum velocity, in meters per second, after $8$ minutes?\n",
    "\n",
    "Hint :\n",
    "\\\n",
    "       ~ 17.32 m/s"
   ]
  },
  {
   "cell_type": "code",
   "execution_count": null,
   "metadata": {
    "nbgrader": {
     "grade": false,
     "grade_id": "code-answer3",
     "locked": false,
     "schema_version": 1,
     "solution": true
    }
   },
   "outputs": [],
   "source": [
    "#-------- Write code --------\n"
   ]
  },
  {
   "cell_type": "markdown",
   "metadata": {
    "nbgrader": {
     "grade": false,
     "grade_id": "md-question4",
     "locked": true,
     "schema_version": 1,
     "solution": false
    }
   },
   "source": [
    "* **Q4 (5 points):** What's the maximum car density, in cars per kilometer, along the road after 8 minutes?\n",
    "\n",
    "Hint :\n",
    "\\\n",
    "       ~ 30.71 cars/km"
   ]
  },
  {
   "cell_type": "code",
   "execution_count": null,
   "metadata": {
    "nbgrader": {
     "grade": false,
     "grade_id": "code-answer4",
     "locked": false,
     "schema_version": 1,
     "solution": true
    }
   },
   "outputs": [],
   "source": [
    "#-------- Write code --------\n"
   ]
  },
  {
   "cell_type": "markdown",
   "metadata": {
    "nbgrader": {
     "grade": false,
     "grade_id": "md-partB",
     "locked": true,
     "schema_version": 1,
     "solution": false
    }
   },
   "source": [
    "### Part B\n",
    "\n",
    "Now, set $V_\\text{max} = 130 \\; \\text{km/hr}$ and redo the simulations using the following initial condition for the traffic density\n",
    "\n",
    "$$\n",
    "\\begin{equation}\n",
    "    \\rho_0 = \\rho \\left(x, t = 0 \\right) =\n",
    "    \\begin{cases}\n",
    "        50 \\quad \\text{if} \\; 2 \\leq x \\leq 4.2 \\\\\n",
    "        20 \\quad \\text{otherwise}\n",
    "    \\end{cases}\n",
    "    ,\\quad \\forall x \\in \\left[ 0, L \\right]\n",
    "\\end{equation}\n",
    "$$\n",
    "\n",
    "and the following boundary condition\n",
    "\n",
    "$$\n",
    "\\begin{equation}\n",
    "    \\rho \\left( x=0, t \\right) = \\rho \\left( x=L, t \\right) = 20, \\quad \\forall t\n",
    "\\end{equation}\n",
    "$$\n",
    "\n",
    "Redo the simulations to answer questions Q5, Q6, Q7, and Q8."
   ]
  },
  {
   "cell_type": "code",
   "execution_count": null,
   "metadata": {
    "nbgrader": {
     "grade": true,
     "grade_id": "code-partB-params",
     "locked": false,
     "points": 0,
     "schema_version": 1,
     "solution": true
    }
   },
   "outputs": [],
   "source": [
    "#-------- Write code --------\n"
   ]
  },
  {
   "cell_type": "markdown",
   "metadata": {
    "nbgrader": {
     "grade": false,
     "grade_id": "md-question5",
     "locked": true,
     "schema_version": 1,
     "solution": false
    }
   },
   "source": [
    "* **Q5 (5 points):** What's the minimum initial velocity in meters per second?\n",
    "\n",
    "Hint :\n",
    "\\\n",
    "       ~ 18.05 m/s"
   ]
  },
  {
   "cell_type": "code",
   "execution_count": null,
   "metadata": {
    "nbgrader": {
     "grade": false,
     "grade_id": "code-answer5",
     "locked": false,
     "schema_version": 1,
     "solution": true
    }
   },
   "outputs": [],
   "source": [
    "#-------- Write code --------\n"
   ]
  },
  {
   "cell_type": "markdown",
   "metadata": {
    "nbgrader": {
     "grade": false,
     "grade_id": "md-question6",
     "locked": true,
     "schema_version": 1,
     "solution": false
    }
   },
   "source": [
    "* **Q6 (10 points):** What's the average velocity, in meters per second, along the road after $4$ minutes?\n",
    "\n",
    "Hint :\n",
    "\\\n",
    "       ~ 27.92 m/s"
   ]
  },
  {
   "cell_type": "code",
   "execution_count": null,
   "metadata": {
    "nbgrader": {
     "grade": false,
     "grade_id": "code-answer6",
     "locked": false,
     "schema_version": 1,
     "solution": true
    }
   },
   "outputs": [],
   "source": [
    "#-------- Write code --------\n"
   ]
  },
  {
   "cell_type": "markdown",
   "metadata": {
    "nbgrader": {
     "grade": false,
     "grade_id": "md-question7",
     "locked": true,
     "schema_version": 1,
     "solution": false
    }
   },
   "source": [
    "* **Q7 (10 points):** What's the minimum velocity, in meters per second, after $8$ minutes?\n",
    "\n",
    "Hint :\n",
    "\\\n",
    "       ~ 23.49 m/s"
   ]
  },
  {
   "cell_type": "code",
   "execution_count": null,
   "metadata": {
    "nbgrader": {
     "grade": false,
     "grade_id": "code-answer7",
     "locked": false,
     "schema_version": 1,
     "solution": true
    }
   },
   "outputs": [],
   "source": [
    "#-------- Write code --------\n"
   ]
  },
  {
   "cell_type": "markdown",
   "metadata": {
    "nbgrader": {
     "grade": false,
     "grade_id": "md-question8",
     "locked": true,
     "schema_version": 1,
     "solution": false
    }
   },
   "source": [
    "* **Q8 (5 points):** What's the average car density, in cars per kilometer, along the road after 8 minutes?\n",
    "\n",
    "Hint :\n",
    "\\\n",
    "       ~ 22.67 cars/km"
   ]
  },
  {
   "cell_type": "code",
   "execution_count": null,
   "metadata": {
    "nbgrader": {
     "grade": false,
     "grade_id": "code-answer8",
     "locked": false,
     "schema_version": 1,
     "solution": true
    }
   },
   "outputs": [],
   "source": [
    "#-------- Write code --------\n"
   ]
  },
  {
   "cell_type": "markdown",
   "metadata": {
    "nbgrader": {
     "grade": false,
     "grade_id": "md-extra",
     "locked": true,
     "schema_version": 1,
     "solution": false
    }
   },
   "source": [
    "## Conservation and non-conservation forms\n",
    "\n",
    "---\n",
    "\n",
    "The traffic flow is modeled by the following equation\n",
    "\n",
    "$$\n",
    "\\begin{equation}\n",
    "    \\frac{\\partial \\rho}{\\partial t} + \\frac{\\partial F}{\\partial x} = 0\n",
    "\\end{equation}\n",
    "$$\n",
    "\n",
    "where $\\rho$ is the density and $F$ is the flux of density given by\n",
    "\n",
    "$$\n",
    "\\begin{equation*}\n",
    "    F = F \\left( \\rho \\right) = \\rho V \\left( \\rho \\right) = \\rho V_\\text{max} \\left( 1 - \\frac{\\rho}{\\rho_\\text{max}} \\right)\n",
    "\\end{equation*}\n",
    "$$\n",
    "\n",
    "The equation above is called the **conservation form** of the traffic-flow equation.\n",
    "\n",
    "Alternatively, we could also write another equation by deriving the flux with respect to $x$:\n",
    "\n",
    "$$\n",
    "\\begin{eqnarray*}\n",
    "    \\frac{\\partial \\rho}{\\partial t} &=& -\\frac{\\partial F}{\\partial x} \\\\\n",
    "    &=& -\\frac{\\partial F}{\\partial \\rho} \\frac{\\partial \\rho}{\\partial x} \\\\\n",
    "    &=& - V_\\text{max} \\left( 1 - 2 \\frac{\\rho}{\\rho_\\text{max}} \\right) \\frac{\\partial \\rho}{\\partial x}\n",
    "\\end{eqnarray*}\n",
    "$$\n",
    "\n",
    "i.e.,\n",
    "\n",
    "$$\n",
    "\\begin{equation}\n",
    "    \\frac{\\partial \\rho}{\\partial t} + V_\\text{max} \\left( 1 - 2 \\frac{\\rho}{\\rho_\\text{max}} \\right) \\frac{\\partial \\rho}{\\partial x} = 0\n",
    "\\end{equation}\n",
    "$$\n",
    "\n",
    "The equation above is call the **non-conservation form** of the traffic-flow equation.\n",
    "\n",
    "Although the two equations are mathematically identical, their respective discrete version is different and will not lead to the same numerical solution.\n",
    "\n",
    "Suppose, we want to advance the solution in time using a first-order Euler's method while computing the space derivative using a backward-difference technique.\n",
    "\n",
    "The discrete version of the equation in conservation form is\n",
    "\n",
    "$$\n",
    "\\begin{equation}\n",
    "    \\frac{\\rho_i^{n + 1} - \\rho_i^n}{\\Delta t} + \\frac{F_i^n - F_{i-1}^n}{\\Delta x} = 0\n",
    "\\end{equation}\n",
    "$$\n",
    "\n",
    "which leads to\n",
    "\n",
    "$$\n",
    "\\begin{equation}\n",
    "    \\frac{\\rho_i^{n + 1} - \\rho_i^n}{\\Delta t} + \\frac{\\rho_i^n V_\\text{max} \\left( 1 - \\frac{\\rho_i^n}{\\rho_\\text{max}} \\right) - \\rho_{i - 1}^n V_\\text{max} \\left( 1 - \\frac{\\rho_{i - 1}^n}{\\rho_\\text{max}} \\right)}{\\Delta x} = 0\n",
    "\\end{equation}\n",
    "$$\n",
    "\n",
    "The discrete version of the equation in non-conservation form is\n",
    "\n",
    "$$\n",
    "\\begin{equation}\n",
    "    \\frac{\\rho_i^{n + 1} - \\rho_i^n}{\\Delta t} + V_\\text{max} \\left( 1 - 2 \\frac{\\rho_i^n}{\\rho_\\text{max}} \\right) \\frac{\\rho_i^n - \\rho_{i - 1}^n}{\\Delta x} = 0\n",
    "\\end{equation}\n",
    "$$\n",
    "\n",
    "You can see that the two discrete equations are different, and thus will not lead to the same numerical solution.\n",
    "\n",
    "For the second assignment of this class, you should discretize the traffic-flow equation in its conservation form."
   ]
  }
 ],
 "metadata": {
  "celltoolbar": "Create Assignment",
  "kernelspec": {
   "display_name": "Python 3 (ipykernel)",
   "language": "python",
   "name": "python3"
  },
  "language_info": {
   "codemirror_mode": {
    "name": "ipython",
    "version": 3
   },
   "file_extension": ".py",
   "mimetype": "text/x-python",
   "name": "python",
   "nbconvert_exporter": "python",
   "pygments_lexer": "ipython3",
   "version": "3.8.13"
  }
 },
 "nbformat": 4,
 "nbformat_minor": 2
}
