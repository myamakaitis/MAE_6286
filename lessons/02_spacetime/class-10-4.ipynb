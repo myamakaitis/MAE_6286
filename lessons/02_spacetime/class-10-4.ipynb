{
 "cells": [
  {
   "cell_type": "code",
   "execution_count": 1,
   "id": "d716ede4",
   "metadata": {},
   "outputs": [],
   "source": [
    "import numpy as np\n",
    "import matplotlib.pyplot as pyp"
   ]
  },
  {
   "cell_type": "code",
   "execution_count": 2,
   "id": "1afa751b",
   "metadata": {},
   "outputs": [],
   "source": [
    "def update_bc(u):\n",
    "    u[0] = 0\n",
    "    u[-1] = u[-2]\n",
    "\n",
    "def advection(u, dx):\n",
    "    adv = (u[1:-1]**2 - u[:-2]**2) / dx\n",
    "    return adv\n",
    "    \n",
    "def diffusion(u, dx):\n",
    "    d = nu*(u[2:] - 2*u[1:-1] + u[:-2]) / (dx**2)\n",
    "    return d "
   ]
  },
  {
   "cell_type": "code",
   "execution_count": 3,
   "id": "716469ae",
   "metadata": {},
   "outputs": [],
   "source": [
    "def adv_dif(u, dx):\n",
    "    return -advection(u, dx) + nu*diffusion(u, dx)"
   ]
  },
  {
   "cell_type": "code",
   "execution_count": 4,
   "id": "583bffa8",
   "metadata": {},
   "outputs": [],
   "source": [
    "def rk2(u, rhs, dx):\n",
    "\n",
    "    dudt1 = rhs(u, dx)\n",
    "    k1 = dudt1*dt\n",
    "    \n",
    "    uc = np.copy(u)\n",
    "    uc[1:-1] += .5*k1\n",
    "    update_bc(uc)    \n",
    "    dudt2 = rhs(uc, dx)\n",
    "    k2 = dudt2*dt\n",
    "    \n",
    "    u[1:-1] += k2\n",
    "    update_bc(u)"
   ]
  },
  {
   "cell_type": "code",
   "execution_count": 5,
   "id": "f2a6cd81",
   "metadata": {},
   "outputs": [],
   "source": [
    "L = 20\n",
    "nx = 402\n",
    "\n",
    "nu = 1\n",
    "dt = 1e-3\n",
    "tmax = 10 + dt"
   ]
  },
  {
   "cell_type": "code",
   "execution_count": 10,
   "id": "bca6b4ea",
   "metadata": {},
   "outputs": [
    {
     "name": "stdout",
     "output_type": "stream",
     "text": [
      "616.3ms, i=10000\n"
     ]
    }
   ],
   "source": [
    "x = np.linspace(0, L, nx)\n",
    "dx = x[1] - x[0]\n",
    "u = np.ones(nx, dtype=np.float64)\n",
    "update_bc(u)\n",
    "\n",
    "# fig, ax = pyp.subplots(dpi = 180, figsize = (7,5))\n",
    "\n",
    "t = 0\n",
    "tl = -1.1\n",
    "\n",
    "from time import perf_counter\n",
    "t0 = perf_counter()\n",
    "\n",
    "steps = int(tmax/dt)\n",
    "\n",
    "for i in range(steps):\n",
    "#     if int(t) > (tl+1):\n",
    "#         ax.plot(x, u, label=f\"{t=:.1f}\")\n",
    "#         tl += 1    \n",
    "    rk2(u, adv_dif, dx)\n",
    "#     t+=dt\n",
    "t1 = perf_counter()\n",
    "print(f\"{1000*(t1-t0):.1f}ms, {i=}\")\n",
    "# ax.legend()\n",
    "# ax.grid(True)"
   ]
  },
  {
   "cell_type": "code",
   "execution_count": null,
   "id": "078de937",
   "metadata": {},
   "outputs": [],
   "source": []
  }
 ],
 "metadata": {
  "kernelspec": {
   "display_name": "Python 3 (ipykernel)",
   "language": "python",
   "name": "python3"
  },
  "language_info": {
   "codemirror_mode": {
    "name": "ipython",
    "version": 3
   },
   "file_extension": ".py",
   "mimetype": "text/x-python",
   "name": "python",
   "nbconvert_exporter": "python",
   "pygments_lexer": "ipython3",
   "version": "3.8.13"
  }
 },
 "nbformat": 4,
 "nbformat_minor": 5
}
